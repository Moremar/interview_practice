{
 "cells": [
  {
   "cell_type": "markdown",
   "id": "036d9734",
   "metadata": {},
   "source": [
    "# Frequent Interview Questions"
   ]
  },
  {
   "cell_type": "code",
   "execution_count": 156,
   "id": "4704ad5e",
   "metadata": {},
   "outputs": [],
   "source": [
    "from collections import deque"
   ]
  },
  {
   "cell_type": "markdown",
   "id": "e98f3df4",
   "metadata": {},
   "source": [
    "### Question 1 - Consecutive Ones\n",
    "\n",
    "Find the max number of consecutive ones in an array of integers."
   ]
  },
  {
   "cell_type": "code",
   "execution_count": 157,
   "id": "8c4354a0",
   "metadata": {},
   "outputs": [],
   "source": [
    "def find_max_consecutive_ones(arr):\n",
    "    max_1, curr_1 = 0, 0\n",
    "    for x in arr:\n",
    "        if x == 1:\n",
    "            curr_1 += 1\n",
    "            max_1 = max(curr_1, max_1)\n",
    "        else:\n",
    "            curr_1 = 0\n",
    "    return max_1"
   ]
  },
  {
   "cell_type": "markdown",
   "id": "b1199eea",
   "metadata": {},
   "source": [
    "Tests :"
   ]
  },
  {
   "cell_type": "code",
   "execution_count": 158,
   "id": "4a6a32a5",
   "metadata": {},
   "outputs": [],
   "source": [
    "assert find_max_consecutive_ones([0]) == 0\n",
    "assert find_max_consecutive_ones([1, 1]) == 2\n",
    "assert find_max_consecutive_ones([1, 1, 0, 1]) == 2\n",
    "assert find_max_consecutive_ones([0, 1, 0, 1, 1, 1, 0, 1]) == 3"
   ]
  },
  {
   "cell_type": "markdown",
   "id": "61dec0eb",
   "metadata": {},
   "source": [
    "### Question 2 - Even Number of Digits\n",
    "\n",
    "Find how many numbers in an array of integers have an even number of digits."
   ]
  },
  {
   "cell_type": "code",
   "execution_count": 159,
   "id": "f847a058",
   "metadata": {},
   "outputs": [],
   "source": [
    "# iterative approach\n",
    "def count_even_digits_1(nums) -> int:\n",
    "    count = 0\n",
    "    for i in nums:\n",
    "        digits = 1\n",
    "        while i // 10 != 0:\n",
    "            digits += 1\n",
    "            i = i // 10\n",
    "        if digits % 2 == 0:\n",
    "            count += 1\n",
    "    return count\n",
    "\n",
    "# approach casting the integers to strings\n",
    "def count_even_digits_2(nums):\n",
    "    return len([x for x in map(len, map(str, nums)) if x % 2 == 0])"
   ]
  },
  {
   "cell_type": "markdown",
   "id": "d418b52d",
   "metadata": {},
   "source": [
    "Tests :"
   ]
  },
  {
   "cell_type": "code",
   "execution_count": 160,
   "id": "6754eba0",
   "metadata": {},
   "outputs": [],
   "source": [
    "assert count_even_digits_1([1, 11, 111, 1111, 11111]) == 2\n",
    "assert count_even_digits_1([0, 12, 13, 7, 121212]) == 3\n",
    "assert count_even_digits_1([1, 111, 11111]) == 0\n",
    "assert count_even_digits_1([]) == 0\n",
    "\n",
    "assert count_even_digits_2([1, 11, 111, 1111, 11111]) == 2\n",
    "assert count_even_digits_2([0, 12, 13, 7, 121212]) == 3\n",
    "assert count_even_digits_2([1, 111, 11111]) == 0\n",
    "assert count_even_digits_2([]) == 0"
   ]
  },
  {
   "cell_type": "markdown",
   "id": "cca5b302",
   "metadata": {},
   "source": [
    "### Question 3 - Sorted Squares\n",
    "\n",
    "Given an array of int in non-decreasing order, return the list of squares in non-decreasing order.  \n",
    "The solution must have a complexity in O(N), so we cannot just calculate the square and sort, which would be in O(N2).\n",
    "\n",
    "Example : [-4, -1, 0, 2]     ->     [0, 1, 4, 16]"
   ]
  },
  {
   "cell_type": "code",
   "execution_count": 161,
   "id": "18e4fa1e",
   "metadata": {},
   "outputs": [],
   "source": [
    "def sorted_squares(nums):\n",
    "    if len(nums) == 0:\n",
    "        return nums\n",
    "    squares = [x * x for x in nums]\n",
    "    res = deque()\n",
    "    start, end = 0, len(squares) - 1\n",
    "    while start != end:\n",
    "        if squares[start] > squares[end]:\n",
    "            res.appendleft(squares[start])\n",
    "            start += 1\n",
    "        else:\n",
    "            res.appendleft(squares[end])\n",
    "            end -= 1\n",
    "    res.appendleft(squares[start])\n",
    "    return res "
   ]
  },
  {
   "cell_type": "markdown",
   "id": "cf3247fb",
   "metadata": {},
   "source": [
    "Tests :"
   ]
  },
  {
   "cell_type": "code",
   "execution_count": 162,
   "id": "6e0e9747",
   "metadata": {},
   "outputs": [],
   "source": [
    "assert list(sorted_squares([-4, -1, 0, 2])) == [0, 1, 4, 16]\n",
    "assert list(sorted_squares([-5, -3, 4, 5])) == [9, 16, 25, 25]"
   ]
  },
  {
   "cell_type": "markdown",
   "id": "ac475ee9",
   "metadata": {},
   "source": [
    "### Question 4 - Duplicate the Zeroes\n",
    "\n",
    "Modify in-place the input array of integers to duplicate all occurences of 0.  \n",
    "The size of the array is maintained and elements after the size of the index are discarded.  \n",
    "The solution must have a complexity of O(n).\n",
    "\n",
    "Example : [1, 0, 2, 0, 3, 4, 5]  ->  [1, 0, 0, 2, 0, 0, 3]"
   ]
  },
  {
   "cell_type": "code",
   "execution_count": 163,
   "id": "99c10800",
   "metadata": {},
   "outputs": [],
   "source": [
    "def duplicate_zeros(arr):\n",
    "    # find how many values will be discarded after full duplication\n",
    "    to_discard = arr.count(0)\n",
    "    # determine where to start shifting elements from the end of the array\n",
    "    read_i = len(arr)-1\n",
    "    write_i = len(arr)-1\n",
    "    while to_discard > 0:\n",
    "        to_discard -= 2 if arr[read_i] == 0 else 1\n",
    "        read_i -= 1\n",
    "    # if the last elem checked was a zero we may have shifted one step too far\n",
    "    if to_discard == -1:\n",
    "        arr[write_i] = 0\n",
    "        write_i -= 1            \n",
    "    # copy all elements from the end of the array, and duplicates zeroes\n",
    "    while write_i > 0:\n",
    "        if arr[read_i] == 0:\n",
    "            arr[write_i] = 0\n",
    "            arr[write_i-1] = 0\n",
    "            write_i -= 2\n",
    "        else:\n",
    "            arr[write_i] = arr[read_i]\n",
    "            write_i -= 1\n",
    "        read_i -= 1"
   ]
  },
  {
   "cell_type": "markdown",
   "id": "517c6d1d",
   "metadata": {},
   "source": [
    "Tests :"
   ]
  },
  {
   "cell_type": "code",
   "execution_count": 164,
   "id": "8b0d007f",
   "metadata": {},
   "outputs": [],
   "source": [
    "arr = [1, 0, 2, 0, 3, 4, 5]\n",
    "duplicate_zeros(arr)\n",
    "assert arr == [1, 0, 0, 2, 0, 0, 3]"
   ]
  },
  {
   "cell_type": "markdown",
   "id": "80bf08da",
   "metadata": {},
   "source": [
    "### Question  5 - Merge arrays into one of them\n",
    "\n",
    "We have 2 non-decreasing arrays of integer : M of size m+n and N of size n.  \n",
    "The first m elements of M are in non-decresing order M, and the last n elements are 0.  \n",
    "Merge M and N into M (the last n elements in M are 0 to accomodate the merged result).\n",
    "\n",
    "Example : M = [1, 3, 5, 0, 0], m = 3, N = [2, 4], n = 2  ->  [1, 2, 3, 4, 5]"
   ]
  },
  {
   "cell_type": "code",
   "execution_count": 165,
   "id": "10e01913",
   "metadata": {},
   "outputs": [],
   "source": [
    "def merge_arrays(M, m, N, n):\n",
    "    # We start populating from the end of the merged array\n",
    "    i_m, i_n, i_res = m - 1, n - 1, m + n - 1\n",
    "    while i_res >= 0:\n",
    "        if i_n < 0 or (i_m >= 0 and M[i_m] > N[i_n]):\n",
    "            M[i_res] = M[i_m]\n",
    "            i_res -= 1\n",
    "            i_m -= 1\n",
    "        else:\n",
    "            M[i_res] = N[i_n]\n",
    "            i_res -= 1\n",
    "            i_n -= 1"
   ]
  },
  {
   "cell_type": "markdown",
   "id": "15b19cb2",
   "metadata": {},
   "source": [
    "Tests :"
   ]
  },
  {
   "cell_type": "code",
   "execution_count": 166,
   "id": "4d5599e5",
   "metadata": {},
   "outputs": [],
   "source": [
    "M, m, N, n = [1, 3, 5, 0, 0], 3, [2, 4], 2\n",
    "merge_arrays(M, m, N, n)\n",
    "assert M == [1, 2, 3, 4, 5]"
   ]
  },
  {
   "cell_type": "markdown",
   "id": "53815e77",
   "metadata": {},
   "source": [
    "### Question 6 - Inplace Duplicates Removal\n",
    "\n",
    "Remove inplace the duplicates from an array M of integers in non-decreasing order and return the index of the last element.\n",
    "\n",
    "Exemple: [1, 2, 2, 2, 3, 3, 4]  -> [1, 2, 3, 4, X, X, X] and return 3 (X can be anything)"
   ]
  },
  {
   "cell_type": "code",
   "execution_count": 167,
   "id": "cce18894",
   "metadata": {},
   "outputs": [],
   "source": [
    "def remove_duplicates(M):\n",
    "    if len(M) < 2:\n",
    "        return len(M)\n",
    "    i_read, i_write = 1, 1\n",
    "    while i_read < len(M):\n",
    "        if M[i_read] != M[i_read - 1]:\n",
    "            M[i_write] = M[i_read]\n",
    "            i_write += 1\n",
    "        i_read += 1\n",
    "    return i_write - 1"
   ]
  },
  {
   "cell_type": "markdown",
   "id": "7962e8da",
   "metadata": {},
   "source": [
    "Tests :"
   ]
  },
  {
   "cell_type": "code",
   "execution_count": 168,
   "id": "68dac607",
   "metadata": {},
   "outputs": [],
   "source": [
    "M = [1, 2, 2, 2, 3, 3, 4]\n",
    "assert remove_duplicates(M) == 3\n",
    "assert M[:4] == [1, 2, 3, 4]"
   ]
  },
  {
   "cell_type": "markdown",
   "id": "86247da7",
   "metadata": {},
   "source": [
    "### Question 7 - Number and its Double\n",
    "\n",
    "Write a function that returns True if there is a number and its double in an array, and False otherwise.  \n",
    "The function must have an O(N) complexity."
   ]
  },
  {
   "cell_type": "code",
   "execution_count": 169,
   "id": "1f2033a0",
   "metadata": {},
   "outputs": [],
   "source": [
    "def check_double(arr):\n",
    "    targets = set()\n",
    "    for x in arr:\n",
    "        if x in targets:\n",
    "            return True\n",
    "        targets.add(x * 2)\n",
    "        if x % 2 == 0:\n",
    "            targets.add(x // 2)\n",
    "    return False"
   ]
  },
  {
   "cell_type": "markdown",
   "id": "e0255906",
   "metadata": {},
   "source": [
    "Tests :"
   ]
  },
  {
   "cell_type": "code",
   "execution_count": 170,
   "id": "a29aad0e",
   "metadata": {},
   "outputs": [],
   "source": [
    "assert check_double([0, 3, 5, 6, 9])\n",
    "assert check_double([0, 6, 5, 3, 9])\n",
    "assert not check_double([0, 3, 5, 9])"
   ]
  },
  {
   "cell_type": "markdown",
   "id": "e4bb0d40",
   "metadata": {},
   "source": [
    "### Question 8 - Mountain Array\n",
    "\n",
    "Write a function returning if an array is a mountain array (strictly increasing then strictly decreasing).\n",
    "\n",
    "[0, 3, 2, 1]   ->  True  \n",
    "[0, 1, 2, 2]   -> False"
   ]
  },
  {
   "cell_type": "code",
   "execution_count": 171,
   "id": "ee011bc0",
   "metadata": {},
   "outputs": [],
   "source": [
    "def valid_mountain_array(arr):\n",
    "    if len(arr) < 3 or arr[0] >= arr[1] or arr[-1] >= arr[-2]:\n",
    "        return False\n",
    "    i = 1\n",
    "    # climb the mountain\n",
    "    while arr[i] < arr[i + 1]:\n",
    "        i += 1\n",
    "    # go down the mountain\n",
    "    while i < len(arr) - 1 and arr[i] > arr[i + 1]:\n",
    "        i += 1\n",
    "    # if it was a mountain array, we arrived at the end of the array\n",
    "    return i == len(arr) - 1"
   ]
  },
  {
   "cell_type": "markdown",
   "id": "74fd8bf3",
   "metadata": {},
   "source": [
    "Tests :"
   ]
  },
  {
   "cell_type": "code",
   "execution_count": 172,
   "id": "835da583",
   "metadata": {},
   "outputs": [],
   "source": [
    "assert valid_mountain_array([0, 1, 0])\n",
    "assert valid_mountain_array([0, 3, 2, 1])\n",
    "assert not valid_mountain_array([2, 1, 0])\n",
    "assert not valid_mountain_array([1, 2, 2, 1])"
   ]
  },
  {
   "cell_type": "markdown",
   "id": "91d0d4fa",
   "metadata": {},
   "source": [
    "### Question 9 - Even Numbers at the start\n",
    "\n",
    "Rearrange an array of integers in place to put all even numbers at the beginning and all odd numbers at the end.\n",
    "\n",
    "Example : [1, 2, 3, 4]  -> [2, 4, 1, 3] or [4, 2, 1, 3] or [2, 4, 3, 1] or [4, 2, 3, 1]"
   ]
  },
  {
   "cell_type": "code",
   "execution_count": 173,
   "id": "89e5f5d1",
   "metadata": {},
   "outputs": [],
   "source": [
    "def sort_array_by_parity(arr):\n",
    "    even_i, odd_i = 0, len(arr) - 1\n",
    "    while even_i != odd_i:\n",
    "        if arr[even_i] % 2 == 0:\n",
    "            even_i += 1\n",
    "        else:\n",
    "            arr[even_i], arr[odd_i] = arr[odd_i], arr[even_i]\n",
    "            odd_i -= 1\n",
    "    return arr"
   ]
  },
  {
   "cell_type": "markdown",
   "id": "b8659960",
   "metadata": {},
   "source": [
    "Tests :"
   ]
  },
  {
   "cell_type": "code",
   "execution_count": 174,
   "id": "678f7dbe",
   "metadata": {},
   "outputs": [],
   "source": [
    "res = sort_array_by_parity([1, 2, 3, 4])\n",
    "assert res in [[2, 4, 1, 3], [4, 2, 1, 3], [2, 4, 3, 1], [4, 2, 3, 1]]"
   ]
  },
  {
   "cell_type": "markdown",
   "id": "652d5286",
   "metadata": {},
   "source": [
    "### Question 10 - Missing Integers\n",
    "\n",
    "We have an array of integers of size n, containing only integers between 1 and n.  \n",
    "Some integers of [1, n] can appear multiple times in the array, and some integers can be missing.  \n",
    "Write a function that returns the list of integers between 1 and n that are not in the array.  \n",
    "The complexity must be in O(N)."
   ]
  },
  {
   "cell_type": "code",
   "execution_count": 175,
   "id": "f85c79ed",
   "metadata": {},
   "outputs": [],
   "source": [
    "def find_disappeared_numbers(arr):\n",
    "    # put each value at its index+1        \n",
    "    i = 0\n",
    "    while i < len(arr):\n",
    "        if arr[i] == i + 1:\n",
    "            # it is at the correct place\n",
    "            i += 1\n",
    "            continue\n",
    "        if arr[i] == arr[arr[i] - 1]:\n",
    "            # its place is already taken by the same number, skip it\n",
    "            i += 1\n",
    "            continue\n",
    "        # swap the values to put it at its place in the integer lists\n",
    "        target_i = arr[i] - 1\n",
    "        arr[i], arr[target_i] = arr[target_i], arr[i]\n",
    "    # missing numbers will not have their value at their index\n",
    "    return [i + 1 for i in range(len(arr)) if arr[i] != i + 1]"
   ]
  },
  {
   "cell_type": "markdown",
   "id": "541a636d",
   "metadata": {},
   "source": [
    "Tests :"
   ]
  },
  {
   "cell_type": "code",
   "execution_count": 176,
   "id": "9b8b47b0",
   "metadata": {},
   "outputs": [],
   "source": [
    "a = [4,3,2,7,8,2,3,1]\n",
    "assert find_disappeared_numbers(a) == [5, 6]"
   ]
  },
  {
   "cell_type": "markdown",
   "id": "8b6d61cd",
   "metadata": {},
   "source": [
    "### Question 11 - Land and Water\n",
    "\n",
    "We have a grid of size N*N filled with 0 and 1, 0 is water and 1 is land.  \n",
    "Write a function that returns the max area created by replacing at most 1one water cell by a land cell.\n",
    "\n",
    "For example with the below grid we can make a big land of 8 cells by filling water in (1, 1) or (2, 0) :\n",
    "<pre>\n",
    " 1 1 1 0  \n",
    " 1 0 0 0  \n",
    " 0 1 0 1  \n",
    " 1 1 0 1  \n",
    " </pre>"
   ]
  },
  {
   "cell_type": "code",
   "execution_count": 177,
   "id": "acd9dabd",
   "metadata": {},
   "outputs": [],
   "source": [
    "def largest_island(grid):\n",
    "    N = len(grid)\n",
    "\n",
    "    def adjacent_cells(x, y):\n",
    "        coords = [(x - 1, y), (x + 1, y), (x, y - 1), (x, y + 1)]\n",
    "        return [(i, j) for (i, j) in coords if 0 <= i < N and 0 <= j < N]\n",
    "\n",
    "    def init_island(i, j, index):\n",
    "        area = 0\n",
    "        to_check = [(i, j)]\n",
    "        while len(to_check):\n",
    "            (x, y) = to_check.pop()\n",
    "            if grid[x][y] != 1:\n",
    "                continue  # was already processed\n",
    "            grid[x][y] = index\n",
    "            area += 1\n",
    "            for (adj_x, adj_y) in adjacent_cells(x, y):\n",
    "                if grid[adj_x][adj_y] == 1:\n",
    "                    to_check.append((adj_x, adj_y))\n",
    "        return area\n",
    "\n",
    "    # edge cases with full 0 or full 1\n",
    "    total_land = sum([sum(row) for row in grid])\n",
    "    if total_land == 0:\n",
    "        return 1\n",
    "    if total_land == N * N:\n",
    "        return total_land\n",
    "\n",
    "    # mark each island with a specific index number\n",
    "    index = 2\n",
    "    islands = {}\n",
    "    for i in range(N):\n",
    "        for j in range(N):\n",
    "            if grid[i][j] == 1:\n",
    "                islands[index] = init_island(i, j, index)\n",
    "                index += 1\n",
    "\n",
    "    max_area = 0\n",
    "\n",
    "    for i in range(N):\n",
    "        for j in range(N):\n",
    "            if grid[i][j] == 0:\n",
    "                connected = set()\n",
    "                for (x, y) in adjacent_cells(i, j):\n",
    "                    if grid[x][y] > 0:\n",
    "                        connected.add(grid[x][y])\n",
    "                area = 1 + sum([islands[k] for k in connected])\n",
    "                max_area = max(max_area, area)\n",
    "\n",
    "    return max_area"
   ]
  },
  {
   "cell_type": "markdown",
   "id": "3b125d8a",
   "metadata": {},
   "source": [
    "Tests :"
   ]
  },
  {
   "cell_type": "code",
   "execution_count": 178,
   "id": "6637b09c",
   "metadata": {},
   "outputs": [],
   "source": [
    "world = [[1, 1, 1, 0],\n",
    "         [1, 0, 0, 0],\n",
    "         [0, 1, 0, 1],\n",
    "         [1, 1, 0, 1]]\n",
    "assert largest_island(world) == 8"
   ]
  },
  {
   "cell_type": "markdown",
   "id": "78e54938",
   "metadata": {},
   "source": [
    "### Question 12 - Stone Game\n",
    "\n",
    "Alice and Bob play a game with piles of stones.  \n",
    "There are an even number of piles arranged in a row, and each pile has a positive integer number of stones piles[i].  \n",
    "The objective of the game is to end with the most stones.  \n",
    "Alice and Bob take turns, with Alice starting first.\n",
    "\n",
    "Each turn, a player takes the entire pile of stones either from the beginning or from the end of the row.  \n",
    "This continues until there are no more piles left, at which point the person with the most stones wins.  \n",
    "The total number of stones across all the piles is odd, so there are no ties.\n",
    "\n",
    "Assuming Alice and Bob play optimally, return true if Alice wins the game, or false if Bob wins."
   ]
  },
  {
   "cell_type": "code",
   "execution_count": 179,
   "id": "398bccef",
   "metadata": {},
   "outputs": [],
   "source": [
    "from functools import cache\n",
    "\n",
    "def stone_game(piles):\n",
    "    # recursive function giving the scores of both players for a given piles config\n",
    "    @cache\n",
    "    def get_scores(start_i, end_i):\n",
    "        if start_i == end_i:\n",
    "            return (piles[start_i], 0)\n",
    "        else:\n",
    "            next_play_left = get_scores(start_i+1, end_i)\n",
    "            score_left = (piles[start_i] + next_play_left[1], next_play_left[0])\n",
    "            next_play_right = get_scores(start_i, end_i-1)\n",
    "            score_right = (piles[end_i] + next_play_right[1], next_play_right[0])\n",
    "            return score_left if score_left[0] > score_right[0] else score_right\n",
    "    \n",
    "    scores = get_scores(0, len(piles)-1)\n",
    "    return scores[0] > scores[1]"
   ]
  },
  {
   "cell_type": "markdown",
   "id": "16f3abf3",
   "metadata": {},
   "source": [
    "Tests :"
   ]
  },
  {
   "cell_type": "code",
   "execution_count": 180,
   "id": "41ef6f19",
   "metadata": {},
   "outputs": [],
   "source": [
    "assert stone_game([1, 2, 3]) is True\n",
    "assert stone_game([1, 3, 1]) is False\n",
    "assert stone_game([1, 3, 5, 1]) is True\n",
    "assert stone_game([1, 5, 3, 5, 1]) is False"
   ]
  },
  {
   "cell_type": "markdown",
   "id": "ea0ad05d",
   "metadata": {},
   "source": [
    "**NOTE**\n",
    "\n",
    "If the number of piles is even, the Alice will always win.  \n",
    "Imagine we paint all piles at an even position in white and all stones at an off position in black.  \n",
    "Then the 1st player can always play in a way to get either all white or all black stones.  \n",
    "He just has to check if there are more white stones or black stones and stick to taking all of them."
   ]
  },
  {
   "cell_type": "markdown",
   "id": "cb1b61d7",
   "metadata": {},
   "source": [
    "### Question 13 - Linked List Cycle\n",
    "\n",
    "Write a function to detect if there is a cycle in a linked list, and return the first node of the loop."
   ]
  },
  {
   "cell_type": "code",
   "execution_count": 181,
   "id": "c986c120",
   "metadata": {},
   "outputs": [],
   "source": [
    "class Node:\n",
    "    def __init__(self, val, next_node=None):\n",
    "        self.val = val\n",
    "        self.next = next_node\n",
    "        \n",
    "    @staticmethod\n",
    "    def create_linked_list(vals, cycle_start=-1):\n",
    "        start = Node(vals[0])\n",
    "        target = start if cycle_start == 0 else None\n",
    "        curr = start\n",
    "        for i in range(1, len(vals)):\n",
    "            curr.next = Node(vals[i])\n",
    "            curr = curr.next\n",
    "            if i == cycle_start:\n",
    "                target = curr\n",
    "        curr.next = target\n",
    "        return start\n",
    "\n",
    "        \n",
    "def cycle_start(node):\n",
    "    # use a fast and a slow pointer\n",
    "    slow_p, fast_p = node, node\n",
    "    N = 0\n",
    "    while fast_p.next and fast_p.next.next:\n",
    "        N += 1\n",
    "        slow_p = slow_p.next\n",
    "        fast_p = fast_p.next.next\n",
    "        if slow_p == fast_p:\n",
    "            break\n",
    "        \n",
    "    if not fast_p.next or not fast_p.next.next:\n",
    "        return None   # no cycle\n",
    "    \n",
    "    # By advancing N Steps from the start we reach the current pointers position\n",
    "    # By advancing another N steps we reach again the same position\n",
    "    # So if we use 2 pointers (one at the start and one in the current position) and advance\n",
    "    # both of them one step at a time, they will first meet at the cycle start\n",
    "    slow_p = node\n",
    "    while slow_p != fast_p:\n",
    "        slow_p = slow_p.next\n",
    "        fast_p = fast_p.next\n",
    "        \n",
    "    return slow_p"
   ]
  },
  {
   "cell_type": "markdown",
   "id": "f033ed50",
   "metadata": {},
   "source": [
    "Tests :"
   ]
  },
  {
   "cell_type": "code",
   "execution_count": 182,
   "id": "045ef463",
   "metadata": {},
   "outputs": [],
   "source": [
    "list_1 = Node.create_linked_list([1, 2, 3, 4], 1)    # loop from the 2nd elem\n",
    "list_2 = Node.create_linked_list([1, 2, 3, 4], 0)    # loop from the 1st elem\n",
    "list_3 = Node.create_linked_list([1, 2, 3, 4], 3)    # last elem pointing to itself\n",
    "list_4 = Node.create_linked_list([1, 2, 3, 4], -1)   # no loop\n",
    "\n",
    "assert cycle_start(list_1).val == 2\n",
    "assert cycle_start(list_2).val == 1\n",
    "assert cycle_start(list_3).val == 4\n",
    "assert cycle_start(list_4) is None"
   ]
  },
  {
   "cell_type": "markdown",
   "id": "e43a9c34",
   "metadata": {},
   "source": [
    "### Question 14 - Linked Lists Joining Node\n",
    "\n",
    "Find the joining node of 2 non-cyclic linked lists (None if they do not join)\n",
    "\n",
    "For example in the below example the 2 lists join on node 4 :\n",
    "<pre>\n",
    "Linked List A :   1 -> 2 -> 3  \n",
    "                             \\\n",
    "                              >--> 4 -> 5\n",
    "                             /\n",
    "Linked List B :        6 -> 7\n",
    "</pre>"
   ]
  },
  {
   "cell_type": "code",
   "execution_count": 183,
   "id": "28c95ffd",
   "metadata": {},
   "outputs": [],
   "source": [
    "def find_joining_node(A, B):\n",
    "    # use a pointer starting from each list\n",
    "    # when a pointer reaches the end of the list, continue from the start of the other list\n",
    "    # the 2 pointers will meet at the joining point\n",
    "    A_p, B_p = A, B\n",
    "    flipped_A, flipped_B = False, False\n",
    "    while not flipped_A or not flipped_B or A_p != B_p:\n",
    "        if A_p is None:\n",
    "            A_p = B\n",
    "            flipped_A = True\n",
    "        else:\n",
    "            A_p = A_p.next\n",
    "        if B_p is None:\n",
    "            B_p = A\n",
    "            flipped_B = True\n",
    "        else:\n",
    "            B_p = B_p.next\n",
    "    return A_p"
   ]
  },
  {
   "cell_type": "markdown",
   "id": "a45f755b",
   "metadata": {},
   "source": [
    "Tests :"
   ]
  },
  {
   "cell_type": "code",
   "execution_count": 184,
   "id": "212609c6",
   "metadata": {},
   "outputs": [],
   "source": [
    "listA = Node.create_linked_list([1, 2, 3, 4, 5])\n",
    "listB = Node.create_linked_list([6, 7])\n",
    "listB.next.next = listA.next.next.next\n",
    "listC = Node.create_linked_list([6, 7], -1)\n",
    "assert find_joining_node(listA, listB).val == 4\n",
    "assert find_joining_node(listA, listC) is None "
   ]
  },
  {
   "cell_type": "markdown",
   "id": "67e41f2c",
   "metadata": {},
   "source": [
    "### Question 15 - Find Singleton Integer\n",
    "\n",
    "Given a non-empty array of integers nums, every element appears twice except for one.  \n",
    "Write a function to find the value of the single element.\n",
    "\n",
    "Can you find an algorithm with a linear runtime complexity and using only constant extra space ?"
   ]
  },
  {
   "cell_type": "code",
   "execution_count": 185,
   "id": "c0c0f782",
   "metadata": {},
   "outputs": [],
   "source": [
    "# An easy way to proceed is to keep track of elems seen only once in a set\n",
    "# That is compelxity O(N) but uses O(N) extra space.\n",
    "def find_singleton_1(arr):\n",
    "    seen = set()\n",
    "    for x in arr :\n",
    "        if x in seen:\n",
    "            seen.remove(x)\n",
    "        else:\n",
    "            seen.add(x)\n",
    "    return seen.pop()\n",
    "\n",
    "# A more efficient way is to generate the XOR of all numbers in the list\n",
    "# Numbers appearing twice will offset each other and the final result will be the single element\n",
    "# This is still complexity O(N) but now only uses 1 integer extra space so O(1)\n",
    "\n",
    "from functools import reduce\n",
    "\n",
    "def find_singleton_2(arr):\n",
    "    return reduce(lambda x,y: x^y, arr)"
   ]
  },
  {
   "cell_type": "markdown",
   "id": "c67b810b",
   "metadata": {},
   "source": [
    "Tests :"
   ]
  },
  {
   "cell_type": "code",
   "execution_count": 186,
   "id": "df551a37",
   "metadata": {},
   "outputs": [],
   "source": [
    "assert find_singleton_1([1, 2, 3, 4, 3, 2, 1]) == 4\n",
    "assert find_singleton_1([1, 2, 2, 3, 3]) == 1\n",
    "assert find_singleton_1([1]) == 1\n",
    "\n",
    "assert find_singleton_2([1, 2, 3, 4, 3, 2, 1]) == 4\n",
    "assert find_singleton_2([1, 2, 2, 3, 3]) == 1\n",
    "assert find_singleton_2([1]) == 1"
   ]
  },
  {
   "cell_type": "markdown",
   "id": "6480f503",
   "metadata": {},
   "source": [
    "### Question 16 - Mirror Binary Tree\n",
    "\n",
    "Write a function to decide if a binary tree is a mirror of itself.\n",
    "\n",
    "For example the below tree is a mirror :\n",
    "<pre>\n",
    "      1\n",
    "    /   \\\n",
    "   2     2\n",
    "  / \\   / \\\n",
    " 3   4 4   3\n",
    "</pre>"
   ]
  },
  {
   "cell_type": "code",
   "execution_count": 187,
   "id": "dba23293",
   "metadata": {},
   "outputs": [],
   "source": [
    "class TreeNode:\n",
    "    def __init__(self, val, left=None, right=None):\n",
    "        self.val = val\n",
    "        self.left = left\n",
    "        self.right = right\n",
    "        \n",
    "def is_mirror(tree):\n",
    "    def mirrors(t1, t2):\n",
    "        if t1 is None and t2 is None:\n",
    "            return True\n",
    "        if t1 is None or t2 is None:\n",
    "            return False\n",
    "        return t1.val == t2.val and mirrors(t1.left, t2.right) and mirrors(t1.right, t2.left)\n",
    "    if tree is None:\n",
    "        return True\n",
    "    return mirrors(tree.left, tree.right)"
   ]
  },
  {
   "cell_type": "markdown",
   "id": "498fbe72",
   "metadata": {},
   "source": [
    "Tests :"
   ]
  },
  {
   "cell_type": "code",
   "execution_count": 188,
   "id": "99b9f543",
   "metadata": {},
   "outputs": [],
   "source": [
    "tree1 = TreeNode(1, TreeNode(2, TreeNode(3), TreeNode(4)), TreeNode(2, TreeNode(4), TreeNode(3)))\n",
    "tree2 = TreeNode(1, TreeNode(2, TreeNode(3), TreeNode(4)), TreeNode(2, TreeNode(3), TreeNode(4)))\n",
    "assert is_mirror(tree1)\n",
    "assert not is_mirror(tree2)"
   ]
  },
  {
   "cell_type": "markdown",
   "id": "a3be9e1f",
   "metadata": {},
   "source": [
    "### Question 17 - Tree Creation from Inorder & Postorder Lists\n",
    "\n",
    "\n",
    "Write a function that builds a tree from its inorder and postorder lists.\n",
    "\n",
    "For example :\n",
    "<pre>\n",
    "      1\n",
    "     / \\         inorder:   [3, 2, 4, 1, 6, 5, 7]\n",
    "   2    5        postorder: [3, 4, 2, 6, 7, 5, 1]\n",
    "  / \\  / \\\n",
    " 3  4 6   7\n",
    "</pre>"
   ]
  },
  {
   "cell_type": "code",
   "execution_count": 189,
   "id": "dcb0d5ba",
   "metadata": {},
   "outputs": [],
   "source": [
    "def build_tree(inorder, postorder):\n",
    "    if len(inorder) == 0:\n",
    "        return None\n",
    "    if len(inorder) == 1:\n",
    "        return TreeNode(inorder[0])\n",
    "    root = Node(postorder[-1])\n",
    "    root_idx = inorder.index(root.val)\n",
    "    root.left = build_tree(inorder[:root_idx], postorder[:root_idx])\n",
    "    root.right = build_tree(inorder[root_idx+1:], postorder[root_idx:-1])\n",
    "    return root"
   ]
  },
  {
   "cell_type": "markdown",
   "id": "1df607b7",
   "metadata": {},
   "source": [
    "Tests :"
   ]
  },
  {
   "cell_type": "code",
   "execution_count": 190,
   "id": "f557c9d2",
   "metadata": {},
   "outputs": [],
   "source": [
    "def inorder(tree):\n",
    "    return [] if not tree else inorder(tree.left) + [tree.val] + inorder(tree.right)\n",
    "\n",
    "def postorder(tree):\n",
    "    return [] if not tree else postorder(tree.left) + postorder(tree.right) + [tree.val]\n",
    "\n",
    "\n",
    "tree = build_tree([3, 2, 4, 1, 6, 5, 7], [3, 4, 2, 6, 7, 5, 1])\n",
    "assert inorder(tree) == [3, 2, 4, 1, 6, 5, 7]\n",
    "assert postorder(tree) == [3, 4, 2, 6, 7, 5, 1]"
   ]
  },
  {
   "cell_type": "markdown",
   "id": "bd6d915b",
   "metadata": {},
   "source": [
    "### Question 18 - Sorted Array to BST\n",
    "\n",
    "Write a function to create a balanced BST from a sorted array.\n",
    "\n",
    "For example, for array [1, 2, 3, 4, 5, 6, 7] :\n",
    "<pre>\n",
    "      4\n",
    "     / \\\n",
    "   2    6\n",
    "  / \\  / \\\n",
    " 1  3 5   7\n",
    "</pre>\n"
   ]
  },
  {
   "cell_type": "code",
   "execution_count": 191,
   "id": "33df49be",
   "metadata": {},
   "outputs": [],
   "source": [
    "def bst_from_sorted_arr(arr):\n",
    "    if len(arr) == 0:\n",
    "        return None\n",
    "    if len(arr) == 1:\n",
    "        return TreeNode(arr[0])\n",
    "    split_i = len(arr) // 2\n",
    "    root = TreeNode(arr[split_i])\n",
    "    root.left = bst_from_sorted_arr(arr[:split_i])\n",
    "    root.right = bst_from_sorted_arr(arr[split_i+1:])\n",
    "    return root"
   ]
  },
  {
   "cell_type": "markdown",
   "id": "f02c0959",
   "metadata": {},
   "source": [
    "Tests :"
   ]
  },
  {
   "cell_type": "code",
   "execution_count": 192,
   "id": "3a16ddc6",
   "metadata": {},
   "outputs": [],
   "source": [
    "tree = bst_from_sorted_arr([1, 2, 3, 4, 5, 6, 7])\n",
    "assert inorder(tree) == [1, 2, 3, 4, 5, 6, 7]\n",
    "assert postorder(tree) == [1, 3, 2, 5, 7, 6, 4]"
   ]
  },
  {
   "cell_type": "markdown",
   "id": "016719db",
   "metadata": {},
   "source": [
    "### Question 19 - Max Consecutive Sum\n",
    "\n",
    "Write a function returning the maximum sum of consecutive integers in an array."
   ]
  },
  {
   "cell_type": "code",
   "execution_count": 193,
   "id": "7536ea96",
   "metadata": {
    "scrolled": true
   },
   "outputs": [],
   "source": [
    "# An obvious method is a triple loop, with complexity O(N3)\n",
    "# By keeping track of the current sum in the 2nd loop, we can improve to a double loop with complexity O(N2)\n",
    "# But we can actually get O(N) by calculating the sum, and adding it to the next element only it if is > 0\n",
    "def max_sum(arr):\n",
    "    max_sum = arr[0]\n",
    "    curr_sum = 0\n",
    "    for i in range(1, len(arr)):\n",
    "        if curr_sum < 0:\n",
    "            curr_sum = 0\n",
    "        curr_sum += arr[i]\n",
    "        if curr_sum > max_sum:\n",
    "            max_sum = curr_sum\n",
    "    return max_sum"
   ]
  },
  {
   "cell_type": "markdown",
   "id": "7832f0f9",
   "metadata": {},
   "source": [
    "Tests :"
   ]
  },
  {
   "cell_type": "code",
   "execution_count": 194,
   "id": "80ed55b6",
   "metadata": {},
   "outputs": [],
   "source": [
    "assert max_sum([-2,1,-3,4,-1,2,1,-5,4]) == 6"
   ]
  },
  {
   "cell_type": "markdown",
   "id": "168ad26e",
   "metadata": {},
   "source": [
    "### Question 20 - Roman Numbers\n",
    "\n",
    "Write a function converting a roman number (up to 4000) into an integer.\n",
    "\n",
    "Also write a function converting an integer (up to 4000) to a roman number."
   ]
  },
  {
   "cell_type": "code",
   "execution_count": 195,
   "id": "c55ffd46",
   "metadata": {},
   "outputs": [],
   "source": [
    "import re\n",
    "\n",
    "def from_roman(roman):\n",
    "    roman_regex = r'(M{0,3})(CM|CD|D?C{0,3})(XC|XL|L?X{0,3})(IX|IV|V?I{0,3})'\n",
    "    nb = {\n",
    "        'M': 1, 'MM': 2, 'MMM': 3,\n",
    "        'C': 1, 'CC': 2, 'CCC': 3, 'CD': 4, 'D': 5, 'DC': 6, 'DCC': 7, 'DCCC': 8, 'CM': 9,\n",
    "        'X': 1, 'XX': 2, 'XXX': 3, 'XL': 4, 'L': 5, 'LX': 6, 'LXX': 7, 'LXXX': 8, 'XC': 9,\n",
    "        'I': 1, 'II': 2, 'III': 3, 'IV': 4, 'V': 5, 'VI': 6, 'VII': 7, 'VIII': 8, 'IX': 9,\n",
    "        '': 0\n",
    "    }\n",
    "    match = re.match(roman_regex, roman)\n",
    "    return nb[match.group(1)] * 1000 + nb[match.group(2)] * 100 + nb[match.group(3)] * 10 + nb[match.group(4)]\n",
    "\n",
    "\n",
    "def to_roman(number):\n",
    "    roman = {\n",
    "        1: {0: '', 1: 'I', 2: 'II', 3: 'III', 4: 'IV', 5: 'V', 6: 'VI', 7: 'VII', 8: 'VIII', 9: 'IX' },\n",
    "        10: {0: '', 1: 'X', 2: 'XX', 3: 'XXX', 4: 'XL', 5: 'L', 6: 'LX', 7: 'LXX', 8: 'LXXX', 9: 'XC' },\n",
    "        100: {0: '', 1: 'C', 2: 'CC', 3: 'CCC', 4: 'CD', 5: 'D', 6: 'DC', 7: 'DCC', 8: 'DCCC', 9: 'CM' },\n",
    "        1000: {0: '', 1: 'M', 2: 'MM', 3: 'MMM'}\n",
    "    }\n",
    "    result = ''\n",
    "    position = 1000\n",
    "    while position > 0:\n",
    "        digit = number // position\n",
    "        result += roman[position][digit]\n",
    "        number -= (digit * position)\n",
    "        position //= 10\n",
    "    return result"
   ]
  },
  {
   "cell_type": "markdown",
   "id": "ca1f22bc",
   "metadata": {},
   "source": [
    "Tests :"
   ]
  },
  {
   "cell_type": "code",
   "execution_count": 196,
   "id": "92293a8e",
   "metadata": {},
   "outputs": [],
   "source": [
    "assert from_roman('MMMCC')  == 3200\n",
    "assert from_roman('CMXCIX') == 999\n",
    "assert from_roman('MMDCCX') == 2710\n",
    "\n",
    "assert to_roman(3200) == 'MMMCC'\n",
    "assert to_roman(999)  == 'CMXCIX'\n",
    "assert to_roman(2710) == 'MMDCCX'"
   ]
  },
  {
   "cell_type": "markdown",
   "id": "874cb5c6",
   "metadata": {},
   "source": [
    "### Question 21 - Pascal Triangle\n",
    "\n",
    "Write a function that returns the first n rows of the Pascal triangle.\n",
    "\n",
    "The Pascal triangle has start with a 1, and then each digit of the next rows is the sum of the 2 above :\n",
    "<pre>\n",
    "     1\n",
    "    1 1\n",
    "   1 2 1\n",
    "  1 3 3 1\n",
    " 1 4 6 4 1\n",
    "</pre>"
   ]
  },
  {
   "cell_type": "code",
   "execution_count": 197,
   "id": "1eb81a28",
   "metadata": {},
   "outputs": [],
   "source": [
    "def pascal_triangle(n):\n",
    "    if n == 1:\n",
    "        return [[1]]\n",
    "    res = pascal_triangle(n-1)\n",
    "    row_n = [1] + [res[-1][i] + res[-1][i+1] for i in range(len(res[-1])-1)] + [1]\n",
    "    res.append(row_n)\n",
    "    return res"
   ]
  },
  {
   "cell_type": "markdown",
   "id": "a0283ddc",
   "metadata": {},
   "source": [
    "Tests :"
   ]
  },
  {
   "cell_type": "code",
   "execution_count": 198,
   "id": "8e20298d",
   "metadata": {},
   "outputs": [],
   "source": [
    "assert pascal_triangle(5) == [[1], [1, 1], [1, 2, 1], [1, 3, 3, 1], [1, 4, 6, 4, 1]]"
   ]
  },
  {
   "cell_type": "markdown",
   "id": "f45743c2",
   "metadata": {},
   "source": [
    "### Question 22 - Longest Palindrom Substring\n",
    "\n",
    "Write a function that returns the longest palindrom substring inside a string."
   ]
  },
  {
   "cell_type": "code",
   "execution_count": 235,
   "id": "ef192d91",
   "metadata": {},
   "outputs": [],
   "source": [
    "def longest_palindrome(s):\n",
    "    best_pal = ''\n",
    "    for i in range(len(s)):\n",
    "        \n",
    "        # look for an odd-size palindrom centered on the current letter\n",
    "        i_before, i_after = i-1, i+1\n",
    "        while i_before >= 0 and i_after < len(s) and s[i_before] == s[i_after]:\n",
    "            i_before -= 1\n",
    "            i_after += 1\n",
    "        if (i_after - i_before - 1) > len(best_pal):\n",
    "            best_pal = s[i_before+1:i_after]\n",
    "            \n",
    "        # look for an even-size palindrom centered on the current letter and its right neighbor\n",
    "        if i+1 < len(s) and s[i+1] == s[i]:\n",
    "            i_before, i_after = i-1, i+2\n",
    "            while i_before >= 0 and i_after < len(s) and s[i_before] == s[i_after]:\n",
    "                i_before -= 1\n",
    "                i_after += 1\n",
    "            if (i_after - i_before - 1) > len(best_pal):\n",
    "                best_pal = s[i_before+1:i_after]\n",
    "\n",
    "    return best_pal"
   ]
  },
  {
   "cell_type": "markdown",
   "id": "63af7610",
   "metadata": {},
   "source": [
    "Tests :"
   ]
  },
  {
   "cell_type": "code",
   "execution_count": 214,
   "id": "85754cfa",
   "metadata": {},
   "outputs": [],
   "source": [
    "assert longest_palindrome('abcd')  == 'a'\n",
    "assert longest_palindrome('abcbd') == 'bcb'\n",
    "assert longest_palindrome('abccd') == 'cc'\n",
    "assert longest_palindrome('aaa')   == 'aaa'\n",
    "assert longest_palindrome('abcba') == 'abcba'\n",
    "assert longest_palindrome('abccb') == 'bccb'"
   ]
  },
  {
   "cell_type": "markdown",
   "id": "2b4dde6c",
   "metadata": {},
   "source": [
    "### Question 23 - Increasing Triplet\n",
    "\n",
    "Write a function that accepts an integer array and return true if there exists 3 indices (i, j, k) such that i < j < k and arr[i] < arr[j] < arr[k].\n",
    "\n",
    "Can you make it with a complexity O(N) and extra space O(1) ?"
   ]
  },
  {
   "cell_type": "code",
   "execution_count": 216,
   "id": "d416188e",
   "metadata": {},
   "outputs": [],
   "source": [
    "def increasing_triplet(arr):\n",
    "    # Keep the min seen so far and the min that has at least one smaller before\n",
    "    min_seen = arr[0]\n",
    "    min_2nd  = None\n",
    "    for x in arr:\n",
    "        if x <= min_seen:\n",
    "            min_seen = x\n",
    "        elif min_2nd is None or x <= min_2nd:\n",
    "            min_2nd = x\n",
    "        else:\n",
    "            return True\n",
    "    return False"
   ]
  },
  {
   "cell_type": "markdown",
   "id": "35229f36",
   "metadata": {},
   "source": [
    "Tests :"
   ]
  },
  {
   "cell_type": "code",
   "execution_count": 217,
   "id": "6b13b8ea",
   "metadata": {},
   "outputs": [],
   "source": [
    "assert increasing_triplet([1, 2, 3, 4]) == True\n",
    "assert increasing_triplet([4, 2, 2, 1]) == False\n",
    "assert increasing_triplet([2, 1, 5, 0, 4, 6]) == True\n",
    "assert increasing_triplet([2, 1, 5, 0, 4]) == False"
   ]
  },
  {
   "cell_type": "markdown",
   "id": "a5e14c18",
   "metadata": {},
   "source": [
    "### Question 24 - Parenthesis Combinations\n",
    "\n",
    "Write a function that generate all combinations of well-formed parentheses with n pairs of parenthesis."
   ]
  },
  {
   "cell_type": "code",
   "execution_count": 221,
   "id": "fbde2403",
   "metadata": {},
   "outputs": [],
   "source": [
    "def generate_parenthesis(n):\n",
    "\n",
    "    def generate(opening, closing):\n",
    "        if opening == 0:\n",
    "            return [')' * closing]\n",
    "        start_with_open = ['(' + s for s in generate(opening-1, closing)]\n",
    "        start_with_close = []\n",
    "        if closing > opening:\n",
    "            start_with_close = [')' + s for s in generate(opening, closing-1)]\n",
    "        return start_with_open + start_with_close\n",
    "\n",
    "    return generate(n, n)"
   ]
  },
  {
   "cell_type": "markdown",
   "id": "f0bcf160",
   "metadata": {},
   "source": [
    "Tests :"
   ]
  },
  {
   "cell_type": "code",
   "execution_count": 224,
   "id": "731627c2",
   "metadata": {},
   "outputs": [],
   "source": [
    "assert set(generate_parenthesis(3)) == set(['((()))', '(()())', '()(())', '(())()', '()()()'])"
   ]
  },
  {
   "cell_type": "markdown",
   "id": "5b71d400",
   "metadata": {},
   "source": [
    "### Question 25 - Word Search\n",
    "\n",
    "Given an M x N grid of characters board and a string word, write a function that returns true if word exists in the grid.\n",
    "\n",
    "The word can be constructed from letters of sequentially adjacent cells (horizontally or vertically neighboring).  \n",
    "The same letter cell may not be used more than once.\n",
    "\n",
    "For example in the below grid, the words BEE, COME, COMB and COMBO exist but the words MEMO and BOMB do not :\n",
    "<pre>\n",
    "  E E E E\n",
    "  C E O E\n",
    "  O M B E\n",
    "</pre>"
   ]
  },
  {
   "cell_type": "code",
   "execution_count": 229,
   "id": "583f02ef",
   "metadata": {},
   "outputs": [],
   "source": [
    "def word_exists(board, word):\n",
    "    to_process = deque()\n",
    "\n",
    "    # find possible start positions of the word\n",
    "    for i in range(len(board)):\n",
    "        for j in range(len(board[0])):\n",
    "            if board[i][j] == word[0]:\n",
    "                if len(word) == 1:\n",
    "                    return True\n",
    "                else:\n",
    "                    to_process.append(((i, j), word[1:], {(i,j)}))\n",
    "\n",
    "    # look for the word\n",
    "    while len(to_process):\n",
    "        (i, j), w, used = to_process.pop()\n",
    "        for (x, y) in [(i+1, j), (i-1, j), (i, j+1), (i, j-1)]:\n",
    "            if not 0 <= x < len(board) or not 0 <= y < len(board[0]):\n",
    "                continue\n",
    "            if (x, y) in used:\n",
    "                continue  # cant use the same cell multiple times\n",
    "            if board[x][y] == w[0]:\n",
    "                if len(w) == 1:\n",
    "                    return True\n",
    "                else:\n",
    "                    to_process.append(((x, y), w[1:], used.union({(x,y)})))\n",
    "    return False"
   ]
  },
  {
   "cell_type": "markdown",
   "id": "630e5b67",
   "metadata": {},
   "source": [
    "Tests :"
   ]
  },
  {
   "cell_type": "code",
   "execution_count": 234,
   "id": "462bb192",
   "metadata": {},
   "outputs": [],
   "source": [
    "board = [['E', 'E', 'E', 'E'], ['C', 'E', 'O', 'E'], ['O', 'M', 'B', 'E']]\n",
    "assert word_exists(board, 'BEE')\n",
    "assert word_exists(board, 'COME')\n",
    "assert word_exists(board, 'COMB')\n",
    "assert word_exists(board, 'COMBO')\n",
    "assert word_exists(board, 'MEMO') == False\n",
    "assert word_exists(board, 'BOMB') == False"
   ]
  },
  {
   "cell_type": "markdown",
   "id": "4cdd1fe4",
   "metadata": {},
   "source": [
    "### Question 26 - k Most Frequent Elements\n",
    "\n",
    "Given an integer array and an integer k, return the k most frequent elements."
   ]
  },
  {
   "cell_type": "code",
   "execution_count": 241,
   "id": "68b00c89",
   "metadata": {},
   "outputs": [],
   "source": [
    "import heapq\n",
    "from collections import Counter\n",
    "\n",
    "def most_frequent_k_items(arr, k):\n",
    "    counter = Counter(arr)\n",
    "    heap = []\n",
    "    for val in counter:\n",
    "        heapq.heappush(heap, (-counter[val], val))  # use - to get a max queue\n",
    "    return {heapq.heappop(heap)[1] for _ in range(k)}"
   ]
  },
  {
   "cell_type": "markdown",
   "id": "5da3c834",
   "metadata": {},
   "source": [
    "Tests :"
   ]
  },
  {
   "cell_type": "code",
   "execution_count": 245,
   "id": "543d4af9",
   "metadata": {},
   "outputs": [],
   "source": [
    "assert most_frequent_k_items([1, 2, 3, 2, 2, 1, 4], 2) == {1, 2}\n",
    "assert most_frequent_k_items([1, 2, 2, 3, 4, 3, 4, 5], 3) == {2, 3, 4}"
   ]
  },
  {
   "cell_type": "markdown",
   "id": "630d3a9f",
   "metadata": {},
   "source": [
    "### Question 27 - Peak Element\n",
    "\n",
    "A peak element is an element that is strictly greater than its neighbors.\n",
    "\n",
    "Given an integer array `arr` of size N with no equal neigbor values, find a peak element and return its index.  \n",
    "If the array contains multiple peaks, return the index of any of the peaks.\n",
    "\n",
    "You may imagine that nums[-1] = nums[N] = -∞.\n",
    "\n",
    "You must write an algorithm that runs in O(log n) time."
   ]
  },
  {
   "cell_type": "code",
   "execution_count": 249,
   "id": "314c230c",
   "metadata": {},
   "outputs": [],
   "source": [
    "def find_peak_element(arr):\n",
    "\n",
    "    def peak_idx(start_i, end_i):\n",
    "        if start_i == end_i:\n",
    "            return start_i\n",
    "        if arr[start_i] > arr[start_i+1]:\n",
    "            return start_i\n",
    "        if arr[end_i] > arr[end_i-1]:\n",
    "            return end_i\n",
    "        \n",
    "        # use dichotomy : check the middle of the array and go to the side it goes up\n",
    "        middle_i = (end_i + start_i) // 2\n",
    "        if arr[middle_i-1] > arr[middle_i]:\n",
    "            return peak_idx(start_i, middle_i-1)\n",
    "        elif arr[middle_i+1] > arr[middle_i]:\n",
    "            return peak_idx(middle_i+1, end_i)\n",
    "        else:\n",
    "            return middle_i\n",
    "\n",
    "    return peak_idx(0, len(arr)-1)"
   ]
  },
  {
   "cell_type": "markdown",
   "id": "54a717a1",
   "metadata": {},
   "source": [
    "Tests :"
   ]
  },
  {
   "cell_type": "code",
   "execution_count": 252,
   "id": "f0b92fdf",
   "metadata": {},
   "outputs": [],
   "source": [
    "assert find_peak_element([1,2,3,1]) == 2\n",
    "assert find_peak_element([1,2,1,3,5,6,4]) == 5"
   ]
  }
 ],
 "metadata": {
  "kernelspec": {
   "display_name": "Python 3 (ipykernel)",
   "language": "python",
   "name": "python3"
  },
  "language_info": {
   "codemirror_mode": {
    "name": "ipython",
    "version": 3
   },
   "file_extension": ".py",
   "mimetype": "text/x-python",
   "name": "python",
   "nbconvert_exporter": "python",
   "pygments_lexer": "ipython3",
   "version": "3.9.6"
  }
 },
 "nbformat": 4,
 "nbformat_minor": 5
}
