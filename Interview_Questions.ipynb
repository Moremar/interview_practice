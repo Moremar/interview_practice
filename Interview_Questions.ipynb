{
 "cells": [
  {
   "cell_type": "markdown",
   "id": "f684cd22",
   "metadata": {},
   "source": [
    "# Frequent Interview Questions"
   ]
  },
  {
   "cell_type": "code",
   "execution_count": 156,
   "id": "315c0512",
   "metadata": {},
   "outputs": [],
   "source": [
    "from collections import deque"
   ]
  },
  {
   "cell_type": "markdown",
   "id": "92c5df24",
   "metadata": {},
   "source": [
    "### Question 1 - Consecutive Ones\n",
    "\n",
    "Find the max number of consecutive ones in an array of integers."
   ]
  },
  {
   "cell_type": "code",
   "execution_count": 157,
   "id": "8ee0e4da",
   "metadata": {},
   "outputs": [],
   "source": [
    "def find_max_consecutive_ones(arr):\n",
    "    max_1, curr_1 = 0, 0\n",
    "    for x in arr:\n",
    "        if x == 1:\n",
    "            curr_1 += 1\n",
    "            max_1 = max(curr_1, max_1)\n",
    "        else:\n",
    "            curr_1 = 0\n",
    "    return max_1"
   ]
  },
  {
   "cell_type": "markdown",
   "id": "37f3566a",
   "metadata": {},
   "source": [
    "Tests :"
   ]
  },
  {
   "cell_type": "code",
   "execution_count": 158,
   "id": "d938464c",
   "metadata": {},
   "outputs": [],
   "source": [
    "assert find_max_consecutive_ones([0]) == 0\n",
    "assert find_max_consecutive_ones([1, 1]) == 2\n",
    "assert find_max_consecutive_ones([1, 1, 0, 1]) == 2\n",
    "assert find_max_consecutive_ones([0, 1, 0, 1, 1, 1, 0, 1]) == 3"
   ]
  },
  {
   "cell_type": "markdown",
   "id": "6000c98b",
   "metadata": {},
   "source": [
    "### Question 2 - Even Number of Digits\n",
    "\n",
    "Find how many numbers in an array of integers have an even number of digits."
   ]
  },
  {
   "cell_type": "code",
   "execution_count": 159,
   "id": "0d121308",
   "metadata": {},
   "outputs": [],
   "source": [
    "# iterative approach\n",
    "def count_even_digits_1(nums) -> int:\n",
    "    count = 0\n",
    "    for i in nums:\n",
    "        digits = 1\n",
    "        while i // 10 != 0:\n",
    "            digits += 1\n",
    "            i = i // 10\n",
    "        if digits % 2 == 0:\n",
    "            count += 1\n",
    "    return count\n",
    "\n",
    "# approach casting the integers to strings\n",
    "def count_even_digits_2(nums):\n",
    "    return len([x for x in map(len, map(str, nums)) if x % 2 == 0])"
   ]
  },
  {
   "cell_type": "markdown",
   "id": "4f5d1595",
   "metadata": {},
   "source": [
    "Tests :"
   ]
  },
  {
   "cell_type": "code",
   "execution_count": 160,
   "id": "2a83e349",
   "metadata": {},
   "outputs": [],
   "source": [
    "assert count_even_digits_1([1, 11, 111, 1111, 11111]) == 2\n",
    "assert count_even_digits_1([0, 12, 13, 7, 121212]) == 3\n",
    "assert count_even_digits_1([1, 111, 11111]) == 0\n",
    "assert count_even_digits_1([]) == 0\n",
    "\n",
    "assert count_even_digits_2([1, 11, 111, 1111, 11111]) == 2\n",
    "assert count_even_digits_2([0, 12, 13, 7, 121212]) == 3\n",
    "assert count_even_digits_2([1, 111, 11111]) == 0\n",
    "assert count_even_digits_2([]) == 0"
   ]
  },
  {
   "cell_type": "markdown",
   "id": "b7ea17f2",
   "metadata": {},
   "source": [
    "### Question 3 - Sorted Squares\n",
    "\n",
    "Given an array of int in non-decreasing order, return the list of squares in non-decreasing order.  \n",
    "The solution must have a complexity in O(N), so we cannot just calculate the square and sort, which would be in O(N2).\n",
    "\n",
    "Example : [-4, -1, 0, 2]     ->     [0, 1, 4, 16]"
   ]
  },
  {
   "cell_type": "code",
   "execution_count": 161,
   "id": "f0935793",
   "metadata": {},
   "outputs": [],
   "source": [
    "def sorted_squares(nums):\n",
    "    if len(nums) == 0:\n",
    "        return nums\n",
    "    squares = [x * x for x in nums]\n",
    "    res = deque()\n",
    "    start, end = 0, len(squares) - 1\n",
    "    while start != end:\n",
    "        if squares[start] > squares[end]:\n",
    "            res.appendleft(squares[start])\n",
    "            start += 1\n",
    "        else:\n",
    "            res.appendleft(squares[end])\n",
    "            end -= 1\n",
    "    res.appendleft(squares[start])\n",
    "    return res "
   ]
  },
  {
   "cell_type": "markdown",
   "id": "e539e70e",
   "metadata": {},
   "source": [
    "Tests :"
   ]
  },
  {
   "cell_type": "code",
   "execution_count": 162,
   "id": "ff06329e",
   "metadata": {},
   "outputs": [],
   "source": [
    "assert list(sorted_squares([-4, -1, 0, 2])) == [0, 1, 4, 16]\n",
    "assert list(sorted_squares([-5, -3, 4, 5])) == [9, 16, 25, 25]"
   ]
  },
  {
   "cell_type": "markdown",
   "id": "a4f9d523",
   "metadata": {},
   "source": [
    "### Question 4 - Duplicate the Zeroes\n",
    "\n",
    "Modify in-place the input array of integers to duplicate all occurences of 0.  \n",
    "The size of the array is maintained and elements after the size of the index are discarded.  \n",
    "The solution must have a complexity of O(n).\n",
    "\n",
    "Example : [1, 0, 2, 0, 3, 4, 5]  ->  [1, 0, 0, 2, 0, 0, 3]"
   ]
  },
  {
   "cell_type": "code",
   "execution_count": 163,
   "id": "bd0e609a",
   "metadata": {},
   "outputs": [],
   "source": [
    "def duplicate_zeros(arr):\n",
    "    # find how many values will be discarded after full duplication\n",
    "    to_discard = arr.count(0)\n",
    "    # determine where to start shifting elements from the end of the array\n",
    "    read_i = len(arr)-1\n",
    "    write_i = len(arr)-1\n",
    "    while to_discard > 0:\n",
    "        to_discard -= 2 if arr[read_i] == 0 else 1\n",
    "        read_i -= 1\n",
    "    # if the last elem checked was a zero we may have shifted one step too far\n",
    "    if to_discard == -1:\n",
    "        arr[write_i] = 0\n",
    "        write_i -= 1            \n",
    "    # copy all elements from the end of the array, and duplicates zeroes\n",
    "    while write_i > 0:\n",
    "        if arr[read_i] == 0:\n",
    "            arr[write_i] = 0\n",
    "            arr[write_i-1] = 0\n",
    "            write_i -= 2\n",
    "        else:\n",
    "            arr[write_i] = arr[read_i]\n",
    "            write_i -= 1\n",
    "        read_i -= 1"
   ]
  },
  {
   "cell_type": "markdown",
   "id": "8e9b9cb9",
   "metadata": {},
   "source": [
    "Tests :"
   ]
  },
  {
   "cell_type": "code",
   "execution_count": 164,
   "id": "05426873",
   "metadata": {},
   "outputs": [],
   "source": [
    "arr = [1, 0, 2, 0, 3, 4, 5]\n",
    "duplicate_zeros(arr)\n",
    "assert arr == [1, 0, 0, 2, 0, 0, 3]"
   ]
  },
  {
   "cell_type": "markdown",
   "id": "2413bda1",
   "metadata": {},
   "source": [
    "### Question  5 - Merge arrays into one of them\n",
    "\n",
    "We have 2 non-decreasing arrays of integer : M of size m+n and N of size n.  \n",
    "The first m elements of M are in non-decresing order M, and the last n elements are 0.  \n",
    "Merge M and N into M (the last n elements in M are 0 to accomodate the merged result).\n",
    "\n",
    "Example : M = [1, 3, 5, 0, 0], m = 3, N = [2, 4], n = 2  ->  [1, 2, 3, 4, 5]"
   ]
  },
  {
   "cell_type": "code",
   "execution_count": 165,
   "id": "8756116a",
   "metadata": {},
   "outputs": [],
   "source": [
    "def merge_arrays(M, m, N, n):\n",
    "    # We start populating from the end of the merged array\n",
    "    i_m, i_n, i_res = m - 1, n - 1, m + n - 1\n",
    "    while i_res >= 0:\n",
    "        if i_n < 0 or (i_m >= 0 and M[i_m] > N[i_n]):\n",
    "            M[i_res] = M[i_m]\n",
    "            i_res -= 1\n",
    "            i_m -= 1\n",
    "        else:\n",
    "            M[i_res] = N[i_n]\n",
    "            i_res -= 1\n",
    "            i_n -= 1"
   ]
  },
  {
   "cell_type": "markdown",
   "id": "7357c160",
   "metadata": {},
   "source": [
    "Tests :"
   ]
  },
  {
   "cell_type": "code",
   "execution_count": 166,
   "id": "45f0080e",
   "metadata": {},
   "outputs": [],
   "source": [
    "M, m, N, n = [1, 3, 5, 0, 0], 3, [2, 4], 2\n",
    "merge_arrays(M, m, N, n)\n",
    "assert M == [1, 2, 3, 4, 5]"
   ]
  },
  {
   "cell_type": "markdown",
   "id": "52e31596",
   "metadata": {},
   "source": [
    "### Question 6 - Inplace Duplicates Removal\n",
    "\n",
    "Remove inplace the duplicates from an array M of integers in non-decreasing order and return the index of the last element.\n",
    "\n",
    "Exemple: [1, 2, 2, 2, 3, 3, 4]  -> [1, 2, 3, 4, X, X, X] and return 3 (X can be anything)"
   ]
  },
  {
   "cell_type": "code",
   "execution_count": 167,
   "id": "e75882fd",
   "metadata": {},
   "outputs": [],
   "source": [
    "def remove_duplicates(M):\n",
    "    if len(M) < 2:\n",
    "        return len(M)\n",
    "    i_read, i_write = 1, 1\n",
    "    while i_read < len(M):\n",
    "        if M[i_read] != M[i_read - 1]:\n",
    "            M[i_write] = M[i_read]\n",
    "            i_write += 1\n",
    "        i_read += 1\n",
    "    return i_write - 1"
   ]
  },
  {
   "cell_type": "markdown",
   "id": "bd4be14e",
   "metadata": {},
   "source": [
    "Tests :"
   ]
  },
  {
   "cell_type": "code",
   "execution_count": 168,
   "id": "517e90fe",
   "metadata": {},
   "outputs": [],
   "source": [
    "M = [1, 2, 2, 2, 3, 3, 4]\n",
    "assert remove_duplicates(M) == 3\n",
    "assert M[:4] == [1, 2, 3, 4]"
   ]
  },
  {
   "cell_type": "markdown",
   "id": "50da0fbf",
   "metadata": {},
   "source": [
    "### Question 7 - Number and its Double\n",
    "\n",
    "Write a function that returns True if there is a number and its double in an array, and False otherwise.  \n",
    "The function must have an O(N) complexity."
   ]
  },
  {
   "cell_type": "code",
   "execution_count": 169,
   "id": "8a9a59b2",
   "metadata": {},
   "outputs": [],
   "source": [
    "def check_double(arr):\n",
    "    targets = set()\n",
    "    for x in arr:\n",
    "        if x in targets:\n",
    "            return True\n",
    "        targets.add(x * 2)\n",
    "        if x % 2 == 0:\n",
    "            targets.add(x // 2)\n",
    "    return False"
   ]
  },
  {
   "cell_type": "markdown",
   "id": "267f339a",
   "metadata": {},
   "source": [
    "Tests :"
   ]
  },
  {
   "cell_type": "code",
   "execution_count": 170,
   "id": "339dcd41",
   "metadata": {},
   "outputs": [],
   "source": [
    "assert check_double([0, 3, 5, 6, 9])\n",
    "assert check_double([0, 6, 5, 3, 9])\n",
    "assert not check_double([0, 3, 5, 9])"
   ]
  },
  {
   "cell_type": "markdown",
   "id": "0846529f",
   "metadata": {},
   "source": [
    "### Question 8 - Mountain Array\n",
    "\n",
    "Write a function returning if an array is a mountain array (strictly increasing then strictly decreasing).\n",
    "\n",
    "[0, 3, 2, 1]   ->  True  \n",
    "[0, 1, 2, 2]   -> False"
   ]
  },
  {
   "cell_type": "code",
   "execution_count": 171,
   "id": "265f4ed3",
   "metadata": {},
   "outputs": [],
   "source": [
    "def valid_mountain_array(arr):\n",
    "    if len(arr) < 3 or arr[0] >= arr[1] or arr[-1] >= arr[-2]:\n",
    "        return False\n",
    "    i = 1\n",
    "    # climb the mountain\n",
    "    while arr[i] < arr[i + 1]:\n",
    "        i += 1\n",
    "    # go down the mountain\n",
    "    while i < len(arr) - 1 and arr[i] > arr[i + 1]:\n",
    "        i += 1\n",
    "    # if it was a mountain array, we arrived at the end of the array\n",
    "    return i == len(arr) - 1"
   ]
  },
  {
   "cell_type": "markdown",
   "id": "24591c1c",
   "metadata": {},
   "source": [
    "Tests :"
   ]
  },
  {
   "cell_type": "code",
   "execution_count": 172,
   "id": "9599bbf8",
   "metadata": {},
   "outputs": [],
   "source": [
    "assert valid_mountain_array([0, 1, 0])\n",
    "assert valid_mountain_array([0, 3, 2, 1])\n",
    "assert not valid_mountain_array([2, 1, 0])\n",
    "assert not valid_mountain_array([1, 2, 2, 1])"
   ]
  },
  {
   "cell_type": "markdown",
   "id": "ad7542c1",
   "metadata": {},
   "source": [
    "### Question 9 - Even Numbers at the start\n",
    "\n",
    "Rearrange an array of integers in place to put all even numbers at the beginning and all odd numbers at the end.\n",
    "\n",
    "Example : [1, 2, 3, 4]  -> [2, 4, 1, 3] or [4, 2, 1, 3] or [2, 4, 3, 1] or [4, 2, 3, 1]"
   ]
  },
  {
   "cell_type": "code",
   "execution_count": 173,
   "id": "8747b668",
   "metadata": {},
   "outputs": [],
   "source": [
    "def sort_array_by_parity(arr):\n",
    "    even_i, odd_i = 0, len(arr) - 1\n",
    "    while even_i != odd_i:\n",
    "        if arr[even_i] % 2 == 0:\n",
    "            even_i += 1\n",
    "        else:\n",
    "            arr[even_i], arr[odd_i] = arr[odd_i], arr[even_i]\n",
    "            odd_i -= 1\n",
    "    return arr"
   ]
  },
  {
   "cell_type": "markdown",
   "id": "096c4c35",
   "metadata": {},
   "source": [
    "Tests :"
   ]
  },
  {
   "cell_type": "code",
   "execution_count": 174,
   "id": "cf95c945",
   "metadata": {},
   "outputs": [],
   "source": [
    "res = sort_array_by_parity([1, 2, 3, 4])\n",
    "assert res in [[2, 4, 1, 3], [4, 2, 1, 3], [2, 4, 3, 1], [4, 2, 3, 1]]"
   ]
  },
  {
   "cell_type": "markdown",
   "id": "61f2cb5c",
   "metadata": {},
   "source": [
    "### Question 10 - Missing Integers\n",
    "\n",
    "We have an array of integers of size n, containing only integers between 1 and n.  \n",
    "Some integers of [1, n] can appear multiple times in the array, and some integers can be missing.  \n",
    "Write a function that returns the list of integers between 1 and n that are not in the array.  \n",
    "The complexity must be in O(N)."
   ]
  },
  {
   "cell_type": "code",
   "execution_count": 175,
   "id": "9a2f10c0",
   "metadata": {},
   "outputs": [],
   "source": [
    "def find_disappeared_numbers(arr):\n",
    "    # put each value at its index+1        \n",
    "    i = 0\n",
    "    while i < len(arr):\n",
    "        if arr[i] == i + 1:\n",
    "            # it is at the correct place\n",
    "            i += 1\n",
    "            continue\n",
    "        if arr[i] == arr[arr[i] - 1]:\n",
    "            # its place is already taken by the same number, skip it\n",
    "            i += 1\n",
    "            continue\n",
    "        # swap the values to put it at its place in the integer lists\n",
    "        target_i = arr[i] - 1\n",
    "        arr[i], arr[target_i] = arr[target_i], arr[i]\n",
    "    # missing numbers will not have their value at their index\n",
    "    return [i + 1 for i in range(len(arr)) if arr[i] != i + 1]"
   ]
  },
  {
   "cell_type": "markdown",
   "id": "14d147a7",
   "metadata": {},
   "source": [
    "Tests :"
   ]
  },
  {
   "cell_type": "code",
   "execution_count": 176,
   "id": "0138b0e6",
   "metadata": {},
   "outputs": [],
   "source": [
    "a = [4,3,2,7,8,2,3,1]\n",
    "assert find_disappeared_numbers(a) == [5, 6]"
   ]
  },
  {
   "cell_type": "markdown",
   "id": "ce8f3a47",
   "metadata": {},
   "source": [
    "### Question 11 - Land and Water\n",
    "\n",
    "We have a grid of size N*N filled with 0 and 1, 0 is water and 1 is land.  \n",
    "Write a function that returns the max area created by replacing at most 1one water cell by a land cell.\n",
    "\n",
    "For example with the below grid we can make a big land of 8 cells by filling water in (1, 1) or (2, 0) :\n",
    "<pre>\n",
    " 1 1 1 0  \n",
    " 1 0 0 0  \n",
    " 0 1 0 1  \n",
    " 1 1 0 1  \n",
    " </pre>"
   ]
  },
  {
   "cell_type": "code",
   "execution_count": 177,
   "id": "78d49ed6",
   "metadata": {},
   "outputs": [],
   "source": [
    "def largest_island(grid):\n",
    "    N = len(grid)\n",
    "\n",
    "    def adjacent_cells(x, y):\n",
    "        coords = [(x - 1, y), (x + 1, y), (x, y - 1), (x, y + 1)]\n",
    "        return [(i, j) for (i, j) in coords if 0 <= i < N and 0 <= j < N]\n",
    "\n",
    "    def init_island(i, j, index):\n",
    "        area = 0\n",
    "        to_check = [(i, j)]\n",
    "        while len(to_check):\n",
    "            (x, y) = to_check.pop()\n",
    "            if grid[x][y] != 1:\n",
    "                continue  # was already processed\n",
    "            grid[x][y] = index\n",
    "            area += 1\n",
    "            for (adj_x, adj_y) in adjacent_cells(x, y):\n",
    "                if grid[adj_x][adj_y] == 1:\n",
    "                    to_check.append((adj_x, adj_y))\n",
    "        return area\n",
    "\n",
    "    # edge cases with full 0 or full 1\n",
    "    total_land = sum([sum(row) for row in grid])\n",
    "    if total_land == 0:\n",
    "        return 1\n",
    "    if total_land == N * N:\n",
    "        return total_land\n",
    "\n",
    "    # mark each island with a specific index number\n",
    "    index = 2\n",
    "    islands = {}\n",
    "    for i in range(N):\n",
    "        for j in range(N):\n",
    "            if grid[i][j] == 1:\n",
    "                islands[index] = init_island(i, j, index)\n",
    "                index += 1\n",
    "\n",
    "    max_area = 0\n",
    "\n",
    "    for i in range(N):\n",
    "        for j in range(N):\n",
    "            if grid[i][j] == 0:\n",
    "                connected = set()\n",
    "                for (x, y) in adjacent_cells(i, j):\n",
    "                    if grid[x][y] > 0:\n",
    "                        connected.add(grid[x][y])\n",
    "                area = 1 + sum([islands[k] for k in connected])\n",
    "                max_area = max(max_area, area)\n",
    "\n",
    "    return max_area"
   ]
  },
  {
   "cell_type": "markdown",
   "id": "029fb0a0",
   "metadata": {},
   "source": [
    "Tests :"
   ]
  },
  {
   "cell_type": "code",
   "execution_count": 178,
   "id": "d05022a1",
   "metadata": {},
   "outputs": [],
   "source": [
    "world = [[1, 1, 1, 0],\n",
    "         [1, 0, 0, 0],\n",
    "         [0, 1, 0, 1],\n",
    "         [1, 1, 0, 1]]\n",
    "assert largest_island(world) == 8"
   ]
  },
  {
   "cell_type": "markdown",
   "id": "96901329",
   "metadata": {},
   "source": [
    "### Question 12 - Stone Game\n",
    "\n",
    "Alice and Bob play a game with piles of stones.  \n",
    "There are an even number of piles arranged in a row, and each pile has a positive integer number of stones piles[i].  \n",
    "The objective of the game is to end with the most stones.  \n",
    "Alice and Bob take turns, with Alice starting first.\n",
    "\n",
    "Each turn, a player takes the entire pile of stones either from the beginning or from the end of the row.  \n",
    "This continues until there are no more piles left, at which point the person with the most stones wins.  \n",
    "The total number of stones across all the piles is odd, so there are no ties.\n",
    "\n",
    "Assuming Alice and Bob play optimally, return true if Alice wins the game, or false if Bob wins."
   ]
  },
  {
   "cell_type": "code",
   "execution_count": 179,
   "id": "f280569a",
   "metadata": {},
   "outputs": [],
   "source": [
    "from functools import cache\n",
    "\n",
    "def stone_game(piles):\n",
    "    # recursive function giving the scores of both players for a given piles config\n",
    "    @cache\n",
    "    def get_scores(start_i, end_i):\n",
    "        if start_i == end_i:\n",
    "            return (piles[start_i], 0)\n",
    "        else:\n",
    "            next_play_left = get_scores(start_i+1, end_i)\n",
    "            score_left = (piles[start_i] + next_play_left[1], next_play_left[0])\n",
    "            next_play_right = get_scores(start_i, end_i-1)\n",
    "            score_right = (piles[end_i] + next_play_right[1], next_play_right[0])\n",
    "            return score_left if score_left[0] > score_right[0] else score_right\n",
    "    \n",
    "    scores = get_scores(0, len(piles)-1)\n",
    "    return scores[0] > scores[1]"
   ]
  },
  {
   "cell_type": "markdown",
   "id": "84f9f231",
   "metadata": {},
   "source": [
    "Tests :"
   ]
  },
  {
   "cell_type": "code",
   "execution_count": 180,
   "id": "2d849ebd",
   "metadata": {},
   "outputs": [],
   "source": [
    "assert stone_game([1, 2, 3]) is True\n",
    "assert stone_game([1, 3, 1]) is False\n",
    "assert stone_game([1, 3, 5, 1]) is True\n",
    "assert stone_game([1, 5, 3, 5, 1]) is False"
   ]
  },
  {
   "cell_type": "markdown",
   "id": "1a647ae6",
   "metadata": {},
   "source": [
    "**NOTE**\n",
    "\n",
    "If the number of piles is even, the Alice will always win.  \n",
    "Imagine we paint all piles at an even position in white and all stones at an off position in black.  \n",
    "Then the 1st player can always play in a way to get either all white or all black stones.  \n",
    "He just has to check if there are more white stones or black stones and stick to taking all of them."
   ]
  },
  {
   "cell_type": "markdown",
   "id": "45df0ea6",
   "metadata": {},
   "source": [
    "### Question 13 - Linked List Cycle\n",
    "\n",
    "Write a function to detect if there is a cycle in a linked list, and return the first node of the loop."
   ]
  },
  {
   "cell_type": "code",
   "execution_count": 181,
   "id": "b06d89bb",
   "metadata": {},
   "outputs": [],
   "source": [
    "class Node:\n",
    "    def __init__(self, val, next_node=None):\n",
    "        self.val = val\n",
    "        self.next = next_node\n",
    "        \n",
    "    @staticmethod\n",
    "    def create_linked_list(vals, cycle_start=-1):\n",
    "        start = Node(vals[0])\n",
    "        target = start if cycle_start == 0 else None\n",
    "        curr = start\n",
    "        for i in range(1, len(vals)):\n",
    "            curr.next = Node(vals[i])\n",
    "            curr = curr.next\n",
    "            if i == cycle_start:\n",
    "                target = curr\n",
    "        curr.next = target\n",
    "        return start\n",
    "\n",
    "        \n",
    "def cycle_start(node):\n",
    "    # use a fast and a slow pointer\n",
    "    slow_p, fast_p = node, node\n",
    "    N = 0\n",
    "    while fast_p.next and fast_p.next.next:\n",
    "        N += 1\n",
    "        slow_p = slow_p.next\n",
    "        fast_p = fast_p.next.next\n",
    "        if slow_p == fast_p:\n",
    "            break\n",
    "        \n",
    "    if not fast_p.next or not fast_p.next.next:\n",
    "        return None   # no cycle\n",
    "    \n",
    "    # By advancing N Steps from the start we reach the current pointers position\n",
    "    # By advancing another N steps we reach again the same position\n",
    "    # So if we use 2 pointers (one at the start and one in the current position) and advance\n",
    "    # both of them one step at a time, they will first meet at the cycle start\n",
    "    slow_p = node\n",
    "    while slow_p != fast_p:\n",
    "        slow_p = slow_p.next\n",
    "        fast_p = fast_p.next\n",
    "        \n",
    "    return slow_p"
   ]
  },
  {
   "cell_type": "markdown",
   "id": "09a0a975",
   "metadata": {},
   "source": [
    "Tests :"
   ]
  },
  {
   "cell_type": "code",
   "execution_count": 182,
   "id": "cbe2bbfa",
   "metadata": {},
   "outputs": [],
   "source": [
    "list_1 = Node.create_linked_list([1, 2, 3, 4], 1)    # loop from the 2nd elem\n",
    "list_2 = Node.create_linked_list([1, 2, 3, 4], 0)    # loop from the 1st elem\n",
    "list_3 = Node.create_linked_list([1, 2, 3, 4], 3)    # last elem pointing to itself\n",
    "list_4 = Node.create_linked_list([1, 2, 3, 4], -1)   # no loop\n",
    "\n",
    "assert cycle_start(list_1).val == 2\n",
    "assert cycle_start(list_2).val == 1\n",
    "assert cycle_start(list_3).val == 4\n",
    "assert cycle_start(list_4) is None"
   ]
  },
  {
   "cell_type": "markdown",
   "id": "27c44b0f",
   "metadata": {},
   "source": [
    "### Question 14 - Linked Lists Joining Node\n",
    "\n",
    "Find the joining node of 2 non-cyclic linked lists (None if they do not join)\n",
    "\n",
    "For example in the below example the 2 lists join on node 4 :\n",
    "<pre>\n",
    "Linked List A :   1 -> 2 -> 3  \n",
    "                             \\\n",
    "                              >--> 4 -> 5\n",
    "                             /\n",
    "Linked List B :        6 -> 7\n",
    "</pre>"
   ]
  },
  {
   "cell_type": "code",
   "execution_count": 183,
   "id": "64536621",
   "metadata": {},
   "outputs": [],
   "source": [
    "def find_joining_node(A, B):\n",
    "    # use a pointer starting from each list\n",
    "    # when a pointer reaches the end of the list, continue from the start of the other list\n",
    "    # the 2 pointers will meet at the joining point\n",
    "    A_p, B_p = A, B\n",
    "    flipped_A, flipped_B = False, False\n",
    "    while not flipped_A or not flipped_B or A_p != B_p:\n",
    "        if A_p is None:\n",
    "            A_p = B\n",
    "            flipped_A = True\n",
    "        else:\n",
    "            A_p = A_p.next\n",
    "        if B_p is None:\n",
    "            B_p = A\n",
    "            flipped_B = True\n",
    "        else:\n",
    "            B_p = B_p.next\n",
    "    return A_p"
   ]
  },
  {
   "cell_type": "markdown",
   "id": "96b4a16b",
   "metadata": {},
   "source": [
    "Tests :"
   ]
  },
  {
   "cell_type": "code",
   "execution_count": 184,
   "id": "1de8bb23",
   "metadata": {},
   "outputs": [],
   "source": [
    "listA = Node.create_linked_list([1, 2, 3, 4, 5])\n",
    "listB = Node.create_linked_list([6, 7])\n",
    "listB.next.next = listA.next.next.next\n",
    "listC = Node.create_linked_list([6, 7], -1)\n",
    "assert find_joining_node(listA, listB).val == 4\n",
    "assert find_joining_node(listA, listC) is None "
   ]
  },
  {
   "cell_type": "markdown",
   "id": "2035a42e",
   "metadata": {},
   "source": [
    "### Question 15 - Find Singleton Integer\n",
    "\n",
    "Given a non-empty array of integers nums, every element appears twice except for one.  \n",
    "Write a function to find the value of the single element.\n",
    "\n",
    "Can you find an algorithm with a linear runtime complexity and using only constant extra space ?"
   ]
  },
  {
   "cell_type": "code",
   "execution_count": 185,
   "id": "8394798c",
   "metadata": {},
   "outputs": [],
   "source": [
    "# An easy way to proceed is to keep track of elems seen only once in a set\n",
    "# That is compelxity O(N) but uses O(N) extra space.\n",
    "def find_singleton_1(arr):\n",
    "    seen = set()\n",
    "    for x in arr :\n",
    "        if x in seen:\n",
    "            seen.remove(x)\n",
    "        else:\n",
    "            seen.add(x)\n",
    "    return seen.pop()\n",
    "\n",
    "# A more efficient way is to generate the XOR of all numbers in the list\n",
    "# Numbers appearing twice will offset each other and the final result will be the single element\n",
    "# This is still complexity O(N) but now only uses 1 integer extra space so O(1)\n",
    "\n",
    "from functools import reduce\n",
    "\n",
    "def find_singleton_2(arr):\n",
    "    return reduce(lambda x,y: x^y, arr)"
   ]
  },
  {
   "cell_type": "markdown",
   "id": "69f5f988",
   "metadata": {},
   "source": [
    "Tests :"
   ]
  },
  {
   "cell_type": "code",
   "execution_count": 186,
   "id": "08e12ef2",
   "metadata": {},
   "outputs": [],
   "source": [
    "assert find_singleton_1([1, 2, 3, 4, 3, 2, 1]) == 4\n",
    "assert find_singleton_1([1, 2, 2, 3, 3]) == 1\n",
    "assert find_singleton_1([1]) == 1\n",
    "\n",
    "assert find_singleton_2([1, 2, 3, 4, 3, 2, 1]) == 4\n",
    "assert find_singleton_2([1, 2, 2, 3, 3]) == 1\n",
    "assert find_singleton_2([1]) == 1"
   ]
  },
  {
   "cell_type": "markdown",
   "id": "f00d2bdf",
   "metadata": {},
   "source": [
    "### Question 16 - Mirror Binary Tree\n",
    "\n",
    "Write a function to decide if a binary tree is a mirror of itself.\n",
    "\n",
    "For example the below tree is a mirror :\n",
    "<pre>\n",
    "      1\n",
    "    /   \\\n",
    "   2     2\n",
    "  / \\   / \\\n",
    " 3   4 4   3\n",
    "</pre>"
   ]
  },
  {
   "cell_type": "code",
   "execution_count": 187,
   "id": "9fb62c43",
   "metadata": {},
   "outputs": [],
   "source": [
    "class TreeNode:\n",
    "    def __init__(self, val, left=None, right=None):\n",
    "        self.val = val\n",
    "        self.left = left\n",
    "        self.right = right\n",
    "        \n",
    "def is_mirror(tree):\n",
    "    def mirrors(t1, t2):\n",
    "        if t1 is None and t2 is None:\n",
    "            return True\n",
    "        if t1 is None or t2 is None:\n",
    "            return False\n",
    "        return t1.val == t2.val and mirrors(t1.left, t2.right) and mirrors(t1.right, t2.left)\n",
    "    if tree is None:\n",
    "        return True\n",
    "    return mirrors(tree.left, tree.right)"
   ]
  },
  {
   "cell_type": "markdown",
   "id": "0fbb821b",
   "metadata": {},
   "source": [
    "Tests :"
   ]
  },
  {
   "cell_type": "code",
   "execution_count": 188,
   "id": "c5d7dc3a",
   "metadata": {},
   "outputs": [],
   "source": [
    "tree1 = TreeNode(1, TreeNode(2, TreeNode(3), TreeNode(4)), TreeNode(2, TreeNode(4), TreeNode(3)))\n",
    "tree2 = TreeNode(1, TreeNode(2, TreeNode(3), TreeNode(4)), TreeNode(2, TreeNode(3), TreeNode(4)))\n",
    "assert is_mirror(tree1)\n",
    "assert not is_mirror(tree2)"
   ]
  },
  {
   "cell_type": "markdown",
   "id": "0a339bf7",
   "metadata": {},
   "source": [
    "### Question 17 - Tree Creation from Inorder & Postorder Lists\n",
    "\n",
    "\n",
    "Write a function that builds a tree from its inorder and postorder lists.\n",
    "\n",
    "For example :\n",
    "<pre>\n",
    "      1\n",
    "     / \\         inorder:   [3, 2, 4, 1, 6, 5, 7]\n",
    "   2    5        postorder: [3, 4, 2, 6, 7, 5, 1]\n",
    "  / \\  / \\\n",
    " 3  4 6   7\n",
    "</pre>"
   ]
  },
  {
   "cell_type": "code",
   "execution_count": 189,
   "id": "2c23e95f",
   "metadata": {},
   "outputs": [],
   "source": [
    "def build_tree(inorder, postorder):\n",
    "    if len(inorder) == 0:\n",
    "        return None\n",
    "    if len(inorder) == 1:\n",
    "        return TreeNode(inorder[0])\n",
    "    root = Node(postorder[-1])\n",
    "    root_idx = inorder.index(root.val)\n",
    "    root.left = build_tree(inorder[:root_idx], postorder[:root_idx])\n",
    "    root.right = build_tree(inorder[root_idx+1:], postorder[root_idx:-1])\n",
    "    return root"
   ]
  },
  {
   "cell_type": "markdown",
   "id": "a4062337",
   "metadata": {},
   "source": [
    "Tests :"
   ]
  },
  {
   "cell_type": "code",
   "execution_count": 190,
   "id": "6bc62504",
   "metadata": {},
   "outputs": [],
   "source": [
    "def inorder(tree):\n",
    "    return [] if not tree else inorder(tree.left) + [tree.val] + inorder(tree.right)\n",
    "\n",
    "def postorder(tree):\n",
    "    return [] if not tree else postorder(tree.left) + postorder(tree.right) + [tree.val]\n",
    "\n",
    "\n",
    "tree = build_tree([3, 2, 4, 1, 6, 5, 7], [3, 4, 2, 6, 7, 5, 1])\n",
    "assert inorder(tree) == [3, 2, 4, 1, 6, 5, 7]\n",
    "assert postorder(tree) == [3, 4, 2, 6, 7, 5, 1]"
   ]
  },
  {
   "cell_type": "markdown",
   "id": "f7722f9a",
   "metadata": {},
   "source": [
    "### Question 18 - Sorted Array to BST\n",
    "\n",
    "Write a function to create a balanced BST from a sorted array.\n",
    "\n",
    "For example, for array [1, 2, 3, 4, 5, 6, 7] :\n",
    "<pre>\n",
    "      4\n",
    "     / \\\n",
    "   2    6\n",
    "  / \\  / \\\n",
    " 1  3 5   7\n",
    "</pre>\n"
   ]
  },
  {
   "cell_type": "code",
   "execution_count": 191,
   "id": "b673fa6b",
   "metadata": {},
   "outputs": [],
   "source": [
    "def bst_from_sorted_arr(arr):\n",
    "    if len(arr) == 0:\n",
    "        return None\n",
    "    if len(arr) == 1:\n",
    "        return TreeNode(arr[0])\n",
    "    split_i = len(arr) // 2\n",
    "    root = TreeNode(arr[split_i])\n",
    "    root.left = bst_from_sorted_arr(arr[:split_i])\n",
    "    root.right = bst_from_sorted_arr(arr[split_i+1:])\n",
    "    return root"
   ]
  },
  {
   "cell_type": "markdown",
   "id": "8ddfaca0",
   "metadata": {},
   "source": [
    "Tests :"
   ]
  },
  {
   "cell_type": "code",
   "execution_count": 192,
   "id": "48e42ae5",
   "metadata": {},
   "outputs": [],
   "source": [
    "tree = bst_from_sorted_arr([1, 2, 3, 4, 5, 6, 7])\n",
    "assert inorder(tree) == [1, 2, 3, 4, 5, 6, 7]\n",
    "assert postorder(tree) == [1, 3, 2, 5, 7, 6, 4]"
   ]
  },
  {
   "cell_type": "markdown",
   "id": "b0cac0d3",
   "metadata": {},
   "source": [
    "### Question 19 - Max Consecutive Sum\n",
    "\n",
    "Write a function returning the maximum sum of consecutive integers in an array."
   ]
  },
  {
   "cell_type": "code",
   "execution_count": 193,
   "id": "49836cbf",
   "metadata": {
    "scrolled": true
   },
   "outputs": [],
   "source": [
    "# An obvious method is a triple loop, with complexity O(N3)\n",
    "# By keeping track of the current sum in the 2nd loop, we can improve to a double loop with complexity O(N2)\n",
    "# But we can actually get O(N) by calculating the sum, and adding it to the next element only it if is > 0\n",
    "def max_sum(arr):\n",
    "    max_sum = arr[0]\n",
    "    curr_sum = 0\n",
    "    for i in range(1, len(arr)):\n",
    "        if curr_sum < 0:\n",
    "            curr_sum = 0\n",
    "        curr_sum += arr[i]\n",
    "        if curr_sum > max_sum:\n",
    "            max_sum = curr_sum\n",
    "    return max_sum"
   ]
  },
  {
   "cell_type": "markdown",
   "id": "88fb3dfb",
   "metadata": {},
   "source": [
    "Tests :"
   ]
  },
  {
   "cell_type": "code",
   "execution_count": 194,
   "id": "76d49ea4",
   "metadata": {},
   "outputs": [],
   "source": [
    "assert max_sum([-2,1,-3,4,-1,2,1,-5,4]) == 6"
   ]
  },
  {
   "cell_type": "markdown",
   "id": "c4093f2e",
   "metadata": {},
   "source": [
    "### Question 20 - Roman Numbers\n",
    "\n",
    "Write a function converting a roman number (up to 4000) into an integer.\n",
    "\n",
    "Also write a function converting an integer (up to 4000) to a roman number."
   ]
  },
  {
   "cell_type": "code",
   "execution_count": 195,
   "id": "ed048f7b",
   "metadata": {},
   "outputs": [],
   "source": [
    "import re\n",
    "\n",
    "def from_roman(roman):\n",
    "    roman_regex = r'(M{0,3})(CM|CD|D?C{0,3})(XC|XL|L?X{0,3})(IX|IV|V?I{0,3})'\n",
    "    nb = {\n",
    "        'M': 1, 'MM': 2, 'MMM': 3,\n",
    "        'C': 1, 'CC': 2, 'CCC': 3, 'CD': 4, 'D': 5, 'DC': 6, 'DCC': 7, 'DCCC': 8, 'CM': 9,\n",
    "        'X': 1, 'XX': 2, 'XXX': 3, 'XL': 4, 'L': 5, 'LX': 6, 'LXX': 7, 'LXXX': 8, 'XC': 9,\n",
    "        'I': 1, 'II': 2, 'III': 3, 'IV': 4, 'V': 5, 'VI': 6, 'VII': 7, 'VIII': 8, 'IX': 9,\n",
    "        '': 0\n",
    "    }\n",
    "    match = re.match(roman_regex, roman)\n",
    "    return nb[match.group(1)] * 1000 + nb[match.group(2)] * 100 + nb[match.group(3)] * 10 + nb[match.group(4)]\n",
    "\n",
    "\n",
    "def to_roman(number):\n",
    "    roman = {\n",
    "        1: {0: '', 1: 'I', 2: 'II', 3: 'III', 4: 'IV', 5: 'V', 6: 'VI', 7: 'VII', 8: 'VIII', 9: 'IX' },\n",
    "        10: {0: '', 1: 'X', 2: 'XX', 3: 'XXX', 4: 'XL', 5: 'L', 6: 'LX', 7: 'LXX', 8: 'LXXX', 9: 'XC' },\n",
    "        100: {0: '', 1: 'C', 2: 'CC', 3: 'CCC', 4: 'CD', 5: 'D', 6: 'DC', 7: 'DCC', 8: 'DCCC', 9: 'CM' },\n",
    "        1000: {0: '', 1: 'M', 2: 'MM', 3: 'MMM'}\n",
    "    }\n",
    "    result = ''\n",
    "    position = 1000\n",
    "    while position > 0:\n",
    "        digit = number // position\n",
    "        result += roman[position][digit]\n",
    "        number -= (digit * position)\n",
    "        position //= 10\n",
    "    return result"
   ]
  },
  {
   "cell_type": "markdown",
   "id": "6650a02a",
   "metadata": {},
   "source": [
    "Tests :"
   ]
  },
  {
   "cell_type": "code",
   "execution_count": 196,
   "id": "3afaa054",
   "metadata": {},
   "outputs": [],
   "source": [
    "assert from_roman('MMMCC')  == 3200\n",
    "assert from_roman('CMXCIX') == 999\n",
    "assert from_roman('MMDCCX') == 2710\n",
    "\n",
    "assert to_roman(3200) == 'MMMCC'\n",
    "assert to_roman(999)  == 'CMXCIX'\n",
    "assert to_roman(2710) == 'MMDCCX'"
   ]
  },
  {
   "cell_type": "markdown",
   "id": "91acf4c2",
   "metadata": {},
   "source": [
    "### Question 21 - Pascal Triangle\n",
    "\n",
    "Write a function that returns the first n rows of the Pascal triangle.\n",
    "\n",
    "The Pascal triangle has start with a 1, and then each digit of the next rows is the sum of the 2 above :\n",
    "<pre>\n",
    "     1\n",
    "    1 1\n",
    "   1 2 1\n",
    "  1 3 3 1\n",
    " 1 4 6 4 1\n",
    "</pre>"
   ]
  },
  {
   "cell_type": "code",
   "execution_count": 197,
   "id": "38d385b6",
   "metadata": {},
   "outputs": [],
   "source": [
    "def pascal_triangle(n):\n",
    "    if n == 1:\n",
    "        return [[1]]\n",
    "    res = pascal_triangle(n-1)\n",
    "    row_n = [1] + [res[-1][i] + res[-1][i+1] for i in range(len(res[-1])-1)] + [1]\n",
    "    res.append(row_n)\n",
    "    return res"
   ]
  },
  {
   "cell_type": "markdown",
   "id": "f6616874",
   "metadata": {},
   "source": [
    "Tests :"
   ]
  },
  {
   "cell_type": "code",
   "execution_count": 198,
   "id": "443ca27b",
   "metadata": {},
   "outputs": [],
   "source": [
    "assert pascal_triangle(5) == [[1], [1, 1], [1, 2, 1], [1, 3, 3, 1], [1, 4, 6, 4, 1]]"
   ]
  }
 ],
 "metadata": {
  "kernelspec": {
   "display_name": "Python 3 (ipykernel)",
   "language": "python",
   "name": "python3"
  },
  "language_info": {
   "codemirror_mode": {
    "name": "ipython",
    "version": 3
   },
   "file_extension": ".py",
   "mimetype": "text/x-python",
   "name": "python",
   "nbconvert_exporter": "python",
   "pygments_lexer": "ipython3",
   "version": "3.9.6"
  }
 },
 "nbformat": 4,
 "nbformat_minor": 5
}
