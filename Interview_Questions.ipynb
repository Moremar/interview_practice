{
 "cells": [
  {
   "cell_type": "markdown",
   "id": "7cfdd84f",
   "metadata": {},
   "source": [
    "# Frequent Interview Questions"
   ]
  },
  {
   "cell_type": "code",
   "execution_count": 16,
   "id": "754c01de",
   "metadata": {},
   "outputs": [],
   "source": [
    "from collections import deque"
   ]
  },
  {
   "cell_type": "markdown",
   "id": "2a305a51",
   "metadata": {},
   "source": [
    "### Question 1\n",
    "\n",
    "Find the max number of consecutive ones in an array of integers."
   ]
  },
  {
   "cell_type": "code",
   "execution_count": 2,
   "id": "c5a84e8a",
   "metadata": {},
   "outputs": [],
   "source": [
    "def find_max_consecutive_ones(arr):\n",
    "    max_1, curr_1 = 0, 0\n",
    "    for x in arr:\n",
    "        if x == 1:\n",
    "            curr_1 += 1\n",
    "            max_1 = max(curr_1, max_1)\n",
    "        else:\n",
    "            curr_1 = 0\n",
    "    return max_1"
   ]
  },
  {
   "cell_type": "markdown",
   "id": "682674e3",
   "metadata": {},
   "source": [
    "Tests :"
   ]
  },
  {
   "cell_type": "code",
   "execution_count": 6,
   "id": "fa98b8fc",
   "metadata": {},
   "outputs": [],
   "source": [
    "assert find_max_consecutive_ones([0]) == 0\n",
    "assert find_max_consecutive_ones([1, 1]) == 2\n",
    "assert find_max_consecutive_ones([1, 1, 0, 1]) == 2\n",
    "assert find_max_consecutive_ones([0, 1, 0, 1, 1, 1, 0, 1]) == 3"
   ]
  },
  {
   "cell_type": "markdown",
   "id": "5c56cd35",
   "metadata": {},
   "source": [
    "### Question 2\n",
    "\n",
    "Find how many numbers in an array of integers have an even number of digits."
   ]
  },
  {
   "cell_type": "code",
   "execution_count": 8,
   "id": "665977fe",
   "metadata": {},
   "outputs": [],
   "source": [
    "# iterative approach\n",
    "def count_even_digits_1(nums) -> int:\n",
    "    count = 0\n",
    "    for i in nums:\n",
    "        digits = 1\n",
    "        while i // 10 != 0:\n",
    "            digits += 1\n",
    "            i = i // 10\n",
    "        if digits % 2 == 0:\n",
    "            count += 1\n",
    "    return count\n",
    "\n",
    "# approach casting the integers to strings\n",
    "def count_even_digits_2(nums):\n",
    "    return len([x for x in map(len, map(str, nums)) if x % 2 == 0])"
   ]
  },
  {
   "cell_type": "markdown",
   "id": "b97a2d30",
   "metadata": {},
   "source": [
    "Tests :"
   ]
  },
  {
   "cell_type": "code",
   "execution_count": 9,
   "id": "4ca664bf",
   "metadata": {},
   "outputs": [],
   "source": [
    "assert count_even_digits_1([1, 11, 111, 1111, 11111]) == 2\n",
    "assert count_even_digits_1([0, 12, 13, 7, 121212]) == 3\n",
    "assert count_even_digits_1([1, 111, 11111]) == 0\n",
    "assert count_even_digits_1([]) == 0\n",
    "\n",
    "assert count_even_digits_2([1, 11, 111, 1111, 11111]) == 2\n",
    "assert count_even_digits_2([0, 12, 13, 7, 121212]) == 3\n",
    "assert count_even_digits_2([1, 111, 11111]) == 0\n",
    "assert count_even_digits_2([]) == 0"
   ]
  },
  {
   "cell_type": "markdown",
   "id": "1f80b2db",
   "metadata": {},
   "source": [
    "### Question 3\n",
    "\n",
    "Given an array of int in non-decreasing order, return the list of squares in non-decreasing order.  \n",
    "The solution must have a complexity in O(N), so we cannot just calculate the square and sort, which would be in O(N2).\n",
    "\n",
    "Example : [-4, -1, 0, 2]     ->     [0, 1, 4, 16]"
   ]
  },
  {
   "cell_type": "code",
   "execution_count": 21,
   "id": "fbe98515",
   "metadata": {},
   "outputs": [],
   "source": [
    "def sorted_squares(nums):\n",
    "    if len(nums) == 0:\n",
    "        return nums\n",
    "    squares = [x * x for x in nums]\n",
    "    res = deque()\n",
    "    start, end = 0, len(squares) - 1\n",
    "    while start != end:\n",
    "        if squares[start] > squares[end]:\n",
    "            res.appendleft(squares[start])\n",
    "            start += 1\n",
    "        else:\n",
    "            res.appendleft(squares[end])\n",
    "            end -= 1\n",
    "    res.appendleft(squares[start])\n",
    "    return res "
   ]
  },
  {
   "cell_type": "markdown",
   "id": "a1a306af",
   "metadata": {},
   "source": [
    "Tests :"
   ]
  },
  {
   "cell_type": "code",
   "execution_count": 24,
   "id": "ab26e0f9",
   "metadata": {},
   "outputs": [],
   "source": [
    "assert list(sorted_squares([-4, -1, 0, 2])) == [0, 1, 4, 16]\n",
    "assert list(sorted_squares([-5, -3, 4, 5])) == [9, 16, 25, 25]"
   ]
  },
  {
   "cell_type": "markdown",
   "id": "dee9d435",
   "metadata": {},
   "source": [
    "### Question 4\n",
    "\n",
    "Modify in-place the input array of integers to duplicate all occurences of 0.  \n",
    "The size of the array is maintained and elements after the size of the index are discarded.  \n",
    "The solution must have a complexity of O(n).\n",
    "\n",
    "Example : [1, 0, 2, 0, 3, 4, 5]  ->  [1, 0, 0, 2, 0, 0, 3]"
   ]
  },
  {
   "cell_type": "code",
   "execution_count": 26,
   "id": "242c3a10",
   "metadata": {},
   "outputs": [],
   "source": [
    "def duplicate_zeros(arr):\n",
    "    # find how many values will be discarded after full duplication\n",
    "    to_discard = arr.count(0)\n",
    "    # determine where to start shifting elements from the end of the array\n",
    "    read_i = len(arr)-1\n",
    "    write_i = len(arr)-1\n",
    "    while to_discard > 0:\n",
    "        to_discard -= 2 if arr[read_i] == 0 else 1\n",
    "        read_i -= 1\n",
    "    # if the last elem checked was a zero we may have shifted one step too far\n",
    "    if to_discard == -1:\n",
    "        arr[write_i] = 0\n",
    "        write_i -= 1            \n",
    "    # copy all elements from the end of the array, and duplicates zeroes\n",
    "    while write_i > 0:\n",
    "        if arr[read_i] == 0:\n",
    "            arr[write_i] = 0\n",
    "            arr[write_i-1] = 0\n",
    "            write_i -= 2\n",
    "        else:\n",
    "            arr[write_i] = arr[read_i]\n",
    "            write_i -= 1\n",
    "        read_i -= 1"
   ]
  },
  {
   "cell_type": "markdown",
   "id": "53b85f4e",
   "metadata": {},
   "source": [
    "Tests :"
   ]
  },
  {
   "cell_type": "code",
   "execution_count": 29,
   "id": "6cddeb94",
   "metadata": {},
   "outputs": [],
   "source": [
    "arr = [1, 0, 2, 0, 3, 4, 5]\n",
    "duplicate_zeros(arr)\n",
    "assert arr == [1, 0, 0, 2, 0, 0, 3]"
   ]
  },
  {
   "cell_type": "markdown",
   "id": "6f014a47",
   "metadata": {},
   "source": [
    "### Question 5\n",
    "\n",
    "We have 2 non-decreasing arrays of integer : M of size m+n and N of size n.  \n",
    "The first m elements of M are in non-decresing order M, and the last n elements are 0.  \n",
    "Merge M and N into M (the last n elemements in M are 0 to accomodate the merged result).\n",
    "\n",
    "Example : M = [1, 3, 5, 0, 0], m = 3, N = [2, 4], n = 2  ->  [1, 2, 3, 4, 5]"
   ]
  },
  {
   "cell_type": "code",
   "execution_count": 35,
   "id": "d6773008",
   "metadata": {},
   "outputs": [],
   "source": [
    "def merge_arrays(M, m, N, n):\n",
    "    # We start populating from the end of the merged array\n",
    "    i_m, i_n, i_res = m - 1, n - 1, m + n - 1\n",
    "    while i_res >= 0:\n",
    "        if i_n < 0 or (i_m >= 0 and M[i_m] > N[i_n]):\n",
    "            M[i_res] = M[i_m]\n",
    "            i_res -= 1\n",
    "            i_m -= 1\n",
    "        else:\n",
    "            M[i_res] = N[i_n]\n",
    "            i_res -= 1\n",
    "            i_n -= 1"
   ]
  },
  {
   "cell_type": "markdown",
   "id": "9ac46906",
   "metadata": {},
   "source": [
    "Tests :"
   ]
  },
  {
   "cell_type": "code",
   "execution_count": 36,
   "id": "fc1cdd6c",
   "metadata": {},
   "outputs": [],
   "source": [
    "M, m, N, n = [1, 3, 5, 0, 0], 3, [2, 4], 2\n",
    "merge_arrays(M, m, N, n)\n",
    "assert M == [1, 2, 3, 4, 5]"
   ]
  },
  {
   "cell_type": "markdown",
   "id": "46f1451e",
   "metadata": {},
   "source": [
    "### Question 6\n",
    "\n",
    "Remove inplace the duplicates from an array M of integers in non-decreasing order and return the index of the last element.\n",
    "\n",
    "Exemple: [1, 2, 2, 2, 3, 3, 4]  -> [1, 2, 3, 4, X, X, X] and return 3 (X can be anything)"
   ]
  },
  {
   "cell_type": "code",
   "execution_count": 48,
   "id": "e7fd5cc8",
   "metadata": {},
   "outputs": [],
   "source": [
    "def remove_duplicates(M):\n",
    "    if len(M) < 2:\n",
    "        return len(M)\n",
    "    i_read, i_write = 1, 1\n",
    "    while i_read < len(M):\n",
    "        if M[i_read] != M[i_read - 1]:\n",
    "            M[i_write] = M[i_read]\n",
    "            i_write += 1\n",
    "        i_read += 1\n",
    "    return i_write - 1"
   ]
  },
  {
   "cell_type": "markdown",
   "id": "e1038593",
   "metadata": {},
   "source": [
    "Tests :"
   ]
  },
  {
   "cell_type": "code",
   "execution_count": 51,
   "id": "71a7635b",
   "metadata": {},
   "outputs": [],
   "source": [
    "M = [1, 2, 2, 2, 3, 3, 4]\n",
    "assert remove_duplicates(M) == 3\n",
    "assert M[:4] == [1, 2, 3, 4]"
   ]
  },
  {
   "cell_type": "markdown",
   "id": "a2ca9af0",
   "metadata": {},
   "source": [
    "### Question 7\n",
    "\n",
    "Write a function that returns True if there is a number and its double in an array, and False otherwise.  \n",
    "The function must have an O(N) complexity."
   ]
  },
  {
   "cell_type": "code",
   "execution_count": 53,
   "id": "1d15bacd",
   "metadata": {},
   "outputs": [],
   "source": [
    "def check_double(arr):\n",
    "    targets = set()\n",
    "    for x in arr:\n",
    "        if x in targets:\n",
    "            return True\n",
    "        targets.add(x * 2)\n",
    "        if x % 2 == 0:\n",
    "            targets.add(x // 2)\n",
    "    return False"
   ]
  },
  {
   "cell_type": "markdown",
   "id": "c52bf250",
   "metadata": {},
   "source": [
    "Tests :"
   ]
  },
  {
   "cell_type": "code",
   "execution_count": 55,
   "id": "33725599",
   "metadata": {},
   "outputs": [],
   "source": [
    "assert check_double([0, 3, 5, 6, 9])\n",
    "assert check_double([0, 6, 5, 3, 9])\n",
    "assert not check_double([0, 3, 5, 9])"
   ]
  },
  {
   "cell_type": "markdown",
   "id": "db4ee070",
   "metadata": {},
   "source": [
    "### Question 8\n",
    "\n",
    "Write a function returning if an array is a mountain array (strictly increasing then strictly decreasing).\n",
    "\n",
    "[0, 3, 2, 1]   ->  True  \n",
    "[0, 1, 2, 2]   -> False"
   ]
  },
  {
   "cell_type": "code",
   "execution_count": 57,
   "id": "6f86c07d",
   "metadata": {},
   "outputs": [],
   "source": [
    "def valid_mountain_array(arr):\n",
    "    if len(arr) < 3 or arr[0] >= arr[1] or arr[-1] >= arr[-2]:\n",
    "        return False\n",
    "    i = 1\n",
    "    # climb the mountain\n",
    "    while arr[i] < arr[i + 1]:\n",
    "        i += 1\n",
    "    # go down the mountain\n",
    "    while i < len(arr) - 1 and arr[i] > arr[i + 1]:\n",
    "        i += 1\n",
    "    # if it was a mountain array, we arrived at the end of the array\n",
    "    return i == len(arr) - 1"
   ]
  },
  {
   "cell_type": "markdown",
   "id": "b55fe527",
   "metadata": {},
   "source": [
    "Tests :"
   ]
  },
  {
   "cell_type": "code",
   "execution_count": 58,
   "id": "be33e6c6",
   "metadata": {},
   "outputs": [],
   "source": [
    "assert valid_mountain_array([0, 1, 0])\n",
    "assert valid_mountain_array([0, 3, 2, 1])\n",
    "assert not valid_mountain_array([2, 1, 0])\n",
    "assert not valid_mountain_array([1, 2, 2, 1])"
   ]
  },
  {
   "cell_type": "markdown",
   "id": "d02e0e31",
   "metadata": {},
   "source": [
    "### Question 9\n",
    "\n",
    "Rearrange an array of integers in place to put all even numbers at the beginning and all odd numbers at the end.\n",
    "\n",
    "Example : [1, 2, 3, 4]  -> [2, 4, 1, 3] or [4, 2, 1, 3] or [2, 4, 3, 1] or [4, 2, 3, 1]"
   ]
  },
  {
   "cell_type": "code",
   "execution_count": 60,
   "id": "a4b42001",
   "metadata": {},
   "outputs": [],
   "source": [
    "def sort_array_by_parity(arr):\n",
    "    even_i, odd_i = 0, len(arr) - 1\n",
    "    while even_i != odd_i:\n",
    "        if arr[even_i] % 2 == 0:\n",
    "            even_i += 1\n",
    "        else:\n",
    "            arr[even_i], arr[odd_i] = arr[odd_i], arr[even_i]\n",
    "            odd_i -= 1\n",
    "    return arr"
   ]
  },
  {
   "cell_type": "markdown",
   "id": "ef53cc55",
   "metadata": {},
   "source": [
    "Tests :"
   ]
  },
  {
   "cell_type": "code",
   "execution_count": 61,
   "id": "d8f18516",
   "metadata": {},
   "outputs": [],
   "source": [
    "res = sort_array_by_parity([1, 2, 3, 4])\n",
    "assert res in [[2, 4, 1, 3], [4, 2, 1, 3], [2, 4, 3, 1], [4, 2, 3, 1]]"
   ]
  },
  {
   "cell_type": "markdown",
   "id": "efcb6994",
   "metadata": {},
   "source": [
    "### Question 10\n",
    "\n",
    "We have an array of integers of size n, containing only integers between 1 and n.  \n",
    "Some integers of [1, n] can appear multiple times in the array, and some integers can be missing.  \n",
    "Write a function that returns the list of integers between 1 and n that are not in the array.  \n",
    "The complexity must be in O(N)."
   ]
  },
  {
   "cell_type": "code",
   "execution_count": 63,
   "id": "7a76ccfc",
   "metadata": {},
   "outputs": [],
   "source": [
    "def find_disappeared_numbers(arr):\n",
    "    # put each value at its index+1        \n",
    "    i = 0\n",
    "    while i < len(arr):\n",
    "        if arr[i] == i + 1:\n",
    "            # it is at the correct place\n",
    "            i += 1\n",
    "            continue\n",
    "        if arr[i] == arr[arr[i] - 1]:\n",
    "            # its place is already taken by the same number, skip it\n",
    "            i += 1\n",
    "            continue\n",
    "        # swap the values to put it at its place in the integer lists\n",
    "        target_i = arr[i] - 1\n",
    "        arr[i], arr[target_i] = arr[target_i], arr[i]\n",
    "    # missing numbers will not have their value at their index\n",
    "    return [i + 1 for i in range(len(arr)) if arr[i] != i + 1]"
   ]
  },
  {
   "cell_type": "markdown",
   "id": "4c88d1ff",
   "metadata": {},
   "source": [
    "Tests :"
   ]
  },
  {
   "cell_type": "code",
   "execution_count": 65,
   "id": "fb5b070a",
   "metadata": {},
   "outputs": [],
   "source": [
    "a = [4,3,2,7,8,2,3,1]\n",
    "assert find_disappeared_numbers(a) == [5, 6]"
   ]
  }
 ],
 "metadata": {
  "kernelspec": {
   "display_name": "Python 3 (ipykernel)",
   "language": "python",
   "name": "python3"
  },
  "language_info": {
   "codemirror_mode": {
    "name": "ipython",
    "version": 3
   },
   "file_extension": ".py",
   "mimetype": "text/x-python",
   "name": "python",
   "nbconvert_exporter": "python",
   "pygments_lexer": "ipython3",
   "version": "3.9.6"
  }
 },
 "nbformat": 4,
 "nbformat_minor": 5
}
